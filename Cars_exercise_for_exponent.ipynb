{
  "nbformat": 4,
  "nbformat_minor": 0,
  "metadata": {
    "colab": {
      "name": "Cars exercise for exponent.ipynb",
      "provenance": [],
      "collapsed_sections": [],
      "toc_visible": true,
      "include_colab_link": true
    },
    "kernelspec": {
      "name": "python3",
      "display_name": "Python 3"
    }
  },
  "cells": [
    {
      "cell_type": "markdown",
      "metadata": {
        "id": "view-in-github",
        "colab_type": "text"
      },
      "source": [
        "<a href=\"https://colab.research.google.com/github/AVJdataminer/AVJdataminer.github.io/blob/master/Cars_exercise_for_exponent.ipynb\" target=\"_parent\"><img src=\"https://colab.research.google.com/assets/colab-badge.svg\" alt=\"Open In Colab\"/></a>"
      ]
    },
    {
      "cell_type": "markdown",
      "metadata": {
        "id": "i2UraL-eN93a",
        "colab_type": "text"
      },
      "source": [
        "# Data Loading, Data Wrangling, and Quality Checks\n",
        "\n",
        "#### Which Vehicle should we add to our fleet?\n",
        "\n",
        "You are a data scientist at a used vehicle dealer and your manager wants to know which vehicles are most likely to have a higher four-year resale value. You have access to a vehicle data set with many attributes associated with valuation. We can build a predictive model to determine which vehicles have higher 4-year resale values. As is often the case we need to perform pre-processing steps to handle the data before we are ready to build our predictive model. "
      ]
    },
    {
      "cell_type": "markdown",
      "metadata": {
        "id": "tJlO4uvUittH",
        "colab_type": "text"
      },
      "source": [
        "## **Data Loading**"
      ]
    },
    {
      "cell_type": "markdown",
      "metadata": {
        "id": "uHKmJPRRwEXy",
        "colab_type": "text"
      },
      "source": [
        "**Load the python modules and mount the data drive.**"
      ]
    },
    {
      "cell_type": "code",
      "metadata": {
        "id": "172S3FjUNfmp",
        "colab_type": "code",
        "colab": {}
      },
      "source": [
        "import numpy as np\n",
        "import pandas as pd\n",
        "import seaborn as sns\n",
        "import matplotlib.pyplot as plt\n",
        "%matplotlib inline\n",
        "import os\n",
        "import datetime\n",
        "from google.colab import drive\n",
        "#drive.mount('/content/drive')"
      ],
      "execution_count": 0,
      "outputs": []
    },
    {
      "cell_type": "code",
      "metadata": {
        "id": "PiV43b1FbLli",
        "colab_type": "code",
        "outputId": "19ad4971-3267-440c-d517-afdb980128da",
        "colab": {
          "base_uri": "https://localhost:8080/",
          "height": 333
        }
      },
      "source": [
        "#load the data\n",
        "file='https://drive.google.com/uc?export=download&id=1PigHCsGrqy8IP3NthEfOa95ly1Gbwp7D'\n",
        "df=pd.read_csv(file)\n",
        "df.head()"
      ],
      "execution_count": 10,
      "outputs": [
        {
          "output_type": "execute_result",
          "data": {
            "text/html": [
              "<div>\n",
              "<style scoped>\n",
              "    .dataframe tbody tr th:only-of-type {\n",
              "        vertical-align: middle;\n",
              "    }\n",
              "\n",
              "    .dataframe tbody tr th {\n",
              "        vertical-align: top;\n",
              "    }\n",
              "\n",
              "    .dataframe thead th {\n",
              "        text-align: right;\n",
              "    }\n",
              "</style>\n",
              "<table border=\"1\" class=\"dataframe\">\n",
              "  <thead>\n",
              "    <tr style=\"text-align: right;\">\n",
              "      <th></th>\n",
              "      <th>Manufacturer</th>\n",
              "      <th>Model</th>\n",
              "      <th>Sales in thousands</th>\n",
              "      <th>4-year resale value</th>\n",
              "      <th>Vehicle type</th>\n",
              "      <th>Price in thousands</th>\n",
              "      <th>Engine size</th>\n",
              "      <th>Horsepower</th>\n",
              "      <th>Wheelbase</th>\n",
              "      <th>Width</th>\n",
              "      <th>Length</th>\n",
              "      <th>Curb weight</th>\n",
              "      <th>Fuel capacity</th>\n",
              "      <th>Fuel efficiency</th>\n",
              "      <th>Latest Launch</th>\n",
              "      <th>Region</th>\n",
              "    </tr>\n",
              "  </thead>\n",
              "  <tbody>\n",
              "    <tr>\n",
              "      <th>0</th>\n",
              "      <td>Acura</td>\n",
              "      <td>Integra</td>\n",
              "      <td>16.92</td>\n",
              "      <td>16.36</td>\n",
              "      <td>Passenger</td>\n",
              "      <td>21.50</td>\n",
              "      <td>1.8</td>\n",
              "      <td>140</td>\n",
              "      <td>101.2</td>\n",
              "      <td>67.3</td>\n",
              "      <td>172.4</td>\n",
              "      <td>2.64</td>\n",
              "      <td>13.2</td>\n",
              "      <td>28.0</td>\n",
              "      <td>2-Feb-14</td>\n",
              "      <td>Japanese</td>\n",
              "    </tr>\n",
              "    <tr>\n",
              "      <th>1</th>\n",
              "      <td>Acura</td>\n",
              "      <td>TL</td>\n",
              "      <td>39.38</td>\n",
              "      <td>19.88</td>\n",
              "      <td>Passenger</td>\n",
              "      <td>28.40</td>\n",
              "      <td>3.2</td>\n",
              "      <td>225</td>\n",
              "      <td>108.1</td>\n",
              "      <td>70.3</td>\n",
              "      <td>192.9</td>\n",
              "      <td>3.52</td>\n",
              "      <td>17.2</td>\n",
              "      <td>25.0</td>\n",
              "      <td>6-Mar-15</td>\n",
              "      <td>Japanese</td>\n",
              "    </tr>\n",
              "    <tr>\n",
              "      <th>2</th>\n",
              "      <td>Acura</td>\n",
              "      <td>CL</td>\n",
              "      <td>14.11</td>\n",
              "      <td>18.23</td>\n",
              "      <td>Passenger</td>\n",
              "      <td>NaN</td>\n",
              "      <td>3.2</td>\n",
              "      <td>225</td>\n",
              "      <td>106.9</td>\n",
              "      <td>70.6</td>\n",
              "      <td>192.0</td>\n",
              "      <td>3.47</td>\n",
              "      <td>17.2</td>\n",
              "      <td>26.0</td>\n",
              "      <td>1-Apr-14</td>\n",
              "      <td>Japanese</td>\n",
              "    </tr>\n",
              "    <tr>\n",
              "      <th>3</th>\n",
              "      <td>Acura</td>\n",
              "      <td>RL</td>\n",
              "      <td>8.59</td>\n",
              "      <td>29.73</td>\n",
              "      <td>Passenger</td>\n",
              "      <td>42.00</td>\n",
              "      <td>3.5</td>\n",
              "      <td>210</td>\n",
              "      <td>114.6</td>\n",
              "      <td>71.4</td>\n",
              "      <td>196.6</td>\n",
              "      <td>3.85</td>\n",
              "      <td>18.0</td>\n",
              "      <td>22.0</td>\n",
              "      <td>3-Oct-15</td>\n",
              "      <td>Japanese</td>\n",
              "    </tr>\n",
              "    <tr>\n",
              "      <th>4</th>\n",
              "      <td>Audi</td>\n",
              "      <td>A4</td>\n",
              "      <td>20.40</td>\n",
              "      <td>22.26</td>\n",
              "      <td>Passenger</td>\n",
              "      <td>23.99</td>\n",
              "      <td>1.8</td>\n",
              "      <td>150</td>\n",
              "      <td>102.6</td>\n",
              "      <td>68.2</td>\n",
              "      <td>178.0</td>\n",
              "      <td>3.00</td>\n",
              "      <td>16.4</td>\n",
              "      <td>27.0</td>\n",
              "      <td>10-Aug-15</td>\n",
              "      <td>European</td>\n",
              "    </tr>\n",
              "  </tbody>\n",
              "</table>\n",
              "</div>"
            ],
            "text/plain": [
              "    Manufacturer              Model  ...  Latest Launch    Region\n",
              "0  Acura          Integra            ...       2-Feb-14  Japanese\n",
              "1  Acura          TL                 ...       6-Mar-15  Japanese\n",
              "2  Acura          CL                 ...       1-Apr-14  Japanese\n",
              "3  Acura          RL                 ...       3-Oct-15  Japanese\n",
              "4  Audi           A4                 ...      10-Aug-15  European\n",
              "\n",
              "[5 rows x 16 columns]"
            ]
          },
          "metadata": {
            "tags": []
          },
          "execution_count": 10
        }
      ]
    },
    {
      "cell_type": "markdown",
      "metadata": {
        "id": "_kB_Nhwli0-7",
        "colab_type": "text"
      },
      "source": [
        "## Data Wrangling"
      ]
    },
    {
      "cell_type": "markdown",
      "metadata": {
        "id": "z9aEM-1Qij5G",
        "colab_type": "text"
      },
      "source": [
        "#### Missing and NA Values: Data Science Knowledge Question\n",
        "How should we handle the NA values in this cars dataset?  \n",
        "\n",
        "Please include how we decide what to do with the missing data as well as what additional information we may want to review or consider in the process. \n",
        "\n",
        "Use the below code snippet and its results to help you. * Note: it may not be the correct solution."
      ]
    },
    {
      "cell_type": "code",
      "metadata": {
        "id": "u86XTDf7aa4L",
        "colab_type": "code",
        "outputId": "98192470-b84d-4962-dfc8-4ad384987bba",
        "colab": {
          "base_uri": "https://localhost:8080/",
          "height": 403
        }
      },
      "source": [
        "print(df.shape)\n",
        "print(pd.DataFrame(df.isnull().sum().sort_values(ascending=False)))\n",
        "df = df.dropna(axis=1)\n",
        "print(df.shape)\n",
        "print(df.columns)"
      ],
      "execution_count": 3,
      "outputs": [
        {
          "output_type": "stream",
          "text": [
            "(156, 16)\n",
            "                      0\n",
            "4-year resale value  36\n",
            "Fuel efficiency       2\n",
            "Curb weight           1\n",
            "Price in thousands    1\n",
            "Region                0\n",
            "Latest Launch         0\n",
            "Fuel capacity         0\n",
            "Length                0\n",
            "Width                 0\n",
            "Wheelbase             0\n",
            "Horsepower            0\n",
            "Engine size           0\n",
            "Vehicle type          0\n",
            "Sales in thousands    0\n",
            "Model                 0\n",
            "Manufacturer          0\n",
            "(156, 12)\n",
            "Index(['Manufacturer', 'Model', 'Sales in thousands', 'Vehicle type',\n",
            "       'Engine size', 'Horsepower', 'Wheelbase', 'Width', 'Length',\n",
            "       'Fuel capacity', 'Latest Launch', 'Region'],\n",
            "      dtype='object')\n"
          ],
          "name": "stdout"
        }
      ]
    },
    {
      "cell_type": "markdown",
      "metadata": {
        "id": "wZPLjfB3y24G",
        "colab_type": "text"
      },
      "source": [
        "### Hint 1"
      ]
    },
    {
      "cell_type": "markdown",
      "metadata": {
        "id": "Jpnd8xxD25hy",
        "colab_type": "text"
      },
      "source": [
        "When the count of NA's is less than 10% of the overall dataset it is often resonable to drop those observations. Look at the columns and counts of rows and columns and think about the percentage of missing values in the cars dataset. Is it less than 10% of the observations by column?"
      ]
    },
    {
      "cell_type": "markdown",
      "metadata": {
        "colab_type": "text",
        "id": "RMx2BwHD2J91"
      },
      "source": [
        "### Hint 2\n"
      ]
    },
    {
      "cell_type": "markdown",
      "metadata": {
        "id": "DP3SRt-N2o3j",
        "colab_type": "text"
      },
      "source": [
        "Let's first identify our response variable; in this case it is the '4-year resale value' and therefore it cannot be removed in the cleaned dataset. Consider the printed result and which columns you would expect to be present still. "
      ]
    },
    {
      "cell_type": "markdown",
      "metadata": {
        "id": "TppoioMjQBwr",
        "colab_type": "text"
      },
      "source": [
        "### Test your Answer"
      ]
    },
    {
      "cell_type": "markdown",
      "metadata": {
        "id": "Y0fmXB4IP2cp",
        "colab_type": "text"
      },
      "source": [
        "* What are common considerations in determining how to handle missing values?\n",
        "* Is there anything in particular in the approach shown that would cause problems if we next tried to build our predictive model?\n",
        "* What is the size of the resulting dataframe?"
      ]
    },
    {
      "cell_type": "markdown",
      "metadata": {
        "id": "sB-2qhRK1cOj",
        "colab_type": "text"
      },
      "source": [
        "### Missing and NA Values: Programming Question"
      ]
    },
    {
      "cell_type": "markdown",
      "metadata": {
        "id": "hsj96H_16hpn",
        "colab_type": "text"
      },
      "source": [
        "Change the below code to drop only the observations with missing values and not the entire variable with missing values?"
      ]
    },
    {
      "cell_type": "code",
      "metadata": {
        "id": "XF4YfHKw6hNV",
        "colab_type": "code",
        "colab": {}
      },
      "source": [
        "file='https://drive.google.com/uc?export=download&id=1PigHCsGrqy8IP3NthEfOa95ly1Gbwp7D'\n",
        "df=pd.read_csv(file)\n",
        "print(df.shape)\n",
        "print(pd.DataFrame(df.isnull().sum().sort_values(ascending=False)))\n",
        "df = df.dropna(axis=1)\n",
        "print(df.shape)\n",
        "print(df.columns)"
      ],
      "execution_count": 0,
      "outputs": []
    },
    {
      "cell_type": "markdown",
      "metadata": {
        "id": "XNr-WQrlmm-Y",
        "colab_type": "text"
      },
      "source": [
        "### Our solution "
      ]
    },
    {
      "cell_type": "markdown",
      "metadata": {
        "id": "To_O-ucvBRaQ",
        "colab_type": "text"
      },
      "source": [
        "#### **Approach** \n",
        "\n",
        "*Identifying Missing data:* One may also want to run additional analyses to ensure there are no mask values such as '-9999' or values such as 'none', these missing values will be missed by `is.null()`. \n",
        "\n",
        "*Data Context:* We identify our response variable as the '4-year resale value', this column therefore must be in the cleaned output dataframe and cannot be deleted to handle the missing values in this column.   \n",
        "\n",
        "*Missing Volume:* We identify that only 4 out 16 columns are missing data and 39 out of 156 observations or rows are missing. Three of the four columns missing data the percentages are less than 10% which is small enough to drop without having a major impact on the overall information content of the dataframe. However, our response variable is 23% missing which one could argue requires a different amelioration strategy than dropping, in addition to the fact that it is our response variable.  \n",
        "\n",
        "*Strategy:* For the three of four columns with less than 10% missing we can simply run `df.dropna()` or `df.dropna(axis = 0)` to remove the rows with those observations only, maintaining the rest of that particular column. Notice in the example code snippet provided `df.dropna(axis = 1)` is used which drops the entire column and removes our response variable from the dataframe along with three other features that will be important in our modeling process. Printing out the dataframe before and after the dropna function helps you see what changes were made so you can be aware of spurious steps.\n",
        "\n",
        "For the response variable, we need to return to management and ask if it is appropriate to remove those rows, or if this will result in a predictive model that is not useful because it has fewer vehicle types that can be predicted. In order to fill the missing values we impute those values. One strategy would be to group the data by 'Manufacturer' or 'region' and fill with the mean values from those groupings. This approach is decent but is only using grouping feature to inform the missing value imputation. Instead we use an imputation model to that is fit on all the numeric data in the dataframe to fill the missing values and we can apply this method to all the numeric columns in one programming step without having to drop any observations. \n",
        "\n",
        "If we wanted to incorporate the categorical features into our imputation model we need to convert them to indicator columns aka dummy variables first, then combined with the numeric columns we can run an impute model. Remeber, this still doesn't account for any datetime features, in our code below you will see the 'Latest Launch' is dropped because it is a datetime feature.\n"
      ]
    },
    {
      "cell_type": "markdown",
      "metadata": {
        "id": "I-EcgpRUInCu",
        "colab_type": "text"
      },
      "source": [
        "#### Programming \n",
        "Updated code with correct axis select in the drop statement."
      ]
    },
    {
      "cell_type": "code",
      "metadata": {
        "id": "Mo6LYOczom0l",
        "colab_type": "code",
        "outputId": "ee51a592-0c10-4e1a-aba8-2272f1777e6d",
        "colab": {
          "base_uri": "https://localhost:8080/",
          "height": 420
        }
      },
      "source": [
        "file='https://drive.google.com/uc?export=download&id=1PigHCsGrqy8IP3NthEfOa95ly1Gbwp7D'\n",
        "df=pd.read_csv(file)\n",
        "print(df.shape)\n",
        "print(pd.DataFrame(df.isnull().sum().sort_values(ascending=False)))\n",
        "df = df.dropna(axis=0)\n",
        "print(df.shape)\n",
        "print(df.columns)"
      ],
      "execution_count": 5,
      "outputs": [
        {
          "output_type": "stream",
          "text": [
            "(156, 16)\n",
            "                      0\n",
            "4-year resale value  36\n",
            "Fuel efficiency       2\n",
            "Curb weight           1\n",
            "Price in thousands    1\n",
            "Region                0\n",
            "Latest Launch         0\n",
            "Fuel capacity         0\n",
            "Length                0\n",
            "Width                 0\n",
            "Wheelbase             0\n",
            "Horsepower            0\n",
            "Engine size           0\n",
            "Vehicle type          0\n",
            "Sales in thousands    0\n",
            "Model                 0\n",
            "Manufacturer          0\n",
            "(117, 16)\n",
            "Index(['Manufacturer', 'Model', 'Sales in thousands', '4-year resale value',\n",
            "       'Vehicle type', 'Price in thousands', 'Engine size', 'Horsepower',\n",
            "       'Wheelbase', 'Width', 'Length', 'Curb weight', 'Fuel capacity',\n",
            "       'Fuel efficiency', 'Latest Launch', 'Region'],\n",
            "      dtype='object')\n"
          ],
          "name": "stdout"
        }
      ]
    },
    {
      "cell_type": "markdown",
      "metadata": {
        "id": "IOXmS73mJErG",
        "colab_type": "text"
      },
      "source": [
        "Print the percentage of missing values for the data frame."
      ]
    },
    {
      "cell_type": "code",
      "metadata": {
        "id": "nNIPw66b6JTQ",
        "colab_type": "code",
        "outputId": "769e044e-1691-433b-9c0b-06858bcee7ff",
        "colab": {
          "base_uri": "https://localhost:8080/",
          "height": 195
        }
      },
      "source": [
        "file='https://drive.google.com/uc?export=download&id=1PigHCsGrqy8IP3NthEfOa95ly1Gbwp7D'\n",
        "df=pd.read_csv(file)\n",
        "pd.DataFrame(df.isnull().sum().sort_values(ascending=False)/len(df)).head()"
      ],
      "execution_count": 0,
      "outputs": [
        {
          "output_type": "execute_result",
          "data": {
            "text/html": [
              "<div>\n",
              "<style scoped>\n",
              "    .dataframe tbody tr th:only-of-type {\n",
              "        vertical-align: middle;\n",
              "    }\n",
              "\n",
              "    .dataframe tbody tr th {\n",
              "        vertical-align: top;\n",
              "    }\n",
              "\n",
              "    .dataframe thead th {\n",
              "        text-align: right;\n",
              "    }\n",
              "</style>\n",
              "<table border=\"1\" class=\"dataframe\">\n",
              "  <thead>\n",
              "    <tr style=\"text-align: right;\">\n",
              "      <th></th>\n",
              "      <th>0</th>\n",
              "    </tr>\n",
              "  </thead>\n",
              "  <tbody>\n",
              "    <tr>\n",
              "      <th>4-year resale value</th>\n",
              "      <td>0.230769</td>\n",
              "    </tr>\n",
              "    <tr>\n",
              "      <th>Fuel efficiency</th>\n",
              "      <td>0.012821</td>\n",
              "    </tr>\n",
              "    <tr>\n",
              "      <th>Curb weight</th>\n",
              "      <td>0.006410</td>\n",
              "    </tr>\n",
              "    <tr>\n",
              "      <th>Price in thousands</th>\n",
              "      <td>0.006410</td>\n",
              "    </tr>\n",
              "    <tr>\n",
              "      <th>Region</th>\n",
              "      <td>0.000000</td>\n",
              "    </tr>\n",
              "  </tbody>\n",
              "</table>\n",
              "</div>"
            ],
            "text/plain": [
              "                            0\n",
              "4-year resale value  0.230769\n",
              "Fuel efficiency      0.012821\n",
              "Curb weight          0.006410\n",
              "Price in thousands   0.006410\n",
              "Region               0.000000"
            ]
          },
          "metadata": {
            "tags": []
          },
          "execution_count": 47
        }
      ]
    },
    {
      "cell_type": "markdown",
      "metadata": {
        "id": "UMwwb3SYNkcD",
        "colab_type": "text"
      },
      "source": [
        "Impute NA's without categorical data columns. Compare the results with the histograms."
      ]
    },
    {
      "cell_type": "code",
      "metadata": {
        "id": "PL9pvPvCKxC5",
        "colab_type": "code",
        "outputId": "2acd4b9d-3631-4313-c481-cac41634d627",
        "colab": {
          "base_uri": "https://localhost:8080/",
          "height": 34
        }
      },
      "source": [
        "from sklearn.preprocessing import Imputer\n",
        "file='https://drive.google.com/uc?export=download&id=1PigHCsGrqy8IP3NthEfOa95ly1Gbwp7D'\n",
        "df=pd.read_csv(file)\n",
        "X = df.select_dtypes(exclude=['object'])\n",
        "print(X.shape)\n",
        "imputer = imputer.fit(X)\n",
        "dfn = pd.DataFrame(imputer.transform(X), columns = X.columns)\n",
        "NA_cols = ['4-year resale value','Fuel efficiency','Curb weight','Price in thousands']"
      ],
      "execution_count": 0,
      "outputs": [
        {
          "output_type": "stream",
          "text": [
            "(156, 11)\n"
          ],
          "name": "stdout"
        }
      ]
    },
    {
      "cell_type": "markdown",
      "metadata": {
        "id": "uAZy04FUS6wL",
        "colab_type": "text"
      },
      "source": [
        "Before Imputation"
      ]
    },
    {
      "cell_type": "code",
      "metadata": {
        "id": "w7S6yfeGS-tV",
        "colab_type": "code",
        "outputId": "1f9dc6e9-b048-435f-d6a4-167328952178",
        "colab": {
          "base_uri": "https://localhost:8080/",
          "height": 336
        }
      },
      "source": [
        "hist = df[NA_cols].hist(bins=50,figsize =(5,5))"
      ],
      "execution_count": 0,
      "outputs": [
        {
          "output_type": "display_data",
          "data": {
            "image/png": "[encoded data removed]",
            "text/plain": [
              "<Figure size 360x360 with 4 Axes>"
            ]
          },
          "metadata": {
            "tags": []
          }
        }
      ]
    },
    {
      "cell_type": "markdown",
      "metadata": {
        "id": "zSKIWJQxTBke",
        "colab_type": "text"
      },
      "source": [
        "After the numeric column fit Imputation"
      ]
    },
    {
      "cell_type": "code",
      "metadata": {
        "id": "ygobzy4yTFnR",
        "colab_type": "code",
        "outputId": "4936bfd6-767f-4555-d14e-41e032ce7aae",
        "colab": {
          "base_uri": "https://localhost:8080/",
          "height": 336
        }
      },
      "source": [
        "hist = dfn[NA_cols].hist(bins=50,figsize =(5, 5))"
      ],
      "execution_count": 0,
      "outputs": [
        {
          "output_type": "display_data",
          "data": {
            "image/png": "[encoded data removed]",
            "text/plain": [
              "<Figure size 360x360 with 4 Axes>"
            ]
          },
          "metadata": {
            "tags": []
          }
        }
      ]
    },
    {
      "cell_type": "markdown",
      "metadata": {
        "id": "gCpoZwrEQRvK",
        "colab_type": "text"
      },
      "source": [
        "Impute NA's with categorical data columns. Compare the result to the original and the previously imputed dataframe."
      ]
    },
    {
      "cell_type": "code",
      "metadata": {
        "id": "aC7EAwmHOJyF",
        "colab_type": "code",
        "outputId": "7874cbfa-bdcb-4014-cb45-277ea8492d6c",
        "colab": {
          "base_uri": "https://localhost:8080/",
          "height": 34
        }
      },
      "source": [
        "file='https://drive.google.com/uc?export=download&id=1PigHCsGrqy8IP3NthEfOa95ly1Gbwp7D'\n",
        "df=pd.read_csv(file)\n",
        "df = df.drop(['Latest Launch'], axis =1)\n",
        "dfo=df.select_dtypes(include=['object'])\n",
        "fulldf = pd.concat([df.drop(dfo, axis=1), pd.get_dummies(dfo)], axis=1)\n",
        "print(fulldf.shape)\n",
        "imputer = imputer.fit(fulldf)\n",
        "fulldfn = pd.DataFrame(imputer.transform(fulldf), columns = fulldf.columns)"
      ],
      "execution_count": 0,
      "outputs": [
        {
          "output_type": "stream",
          "text": [
            "(156, 202)\n"
          ],
          "name": "stdout"
        }
      ]
    },
    {
      "cell_type": "markdown",
      "metadata": {
        "id": "zEMnp_QqTXuZ",
        "colab_type": "text"
      },
      "source": [
        "After All Features Fit Imputation"
      ]
    },
    {
      "cell_type": "code",
      "metadata": {
        "id": "lEyOidW4Td9R",
        "colab_type": "code",
        "outputId": "0ce43e05-b7a8-479b-cfe5-67cea764d7da",
        "colab": {
          "base_uri": "https://localhost:8080/",
          "height": 336
        }
      },
      "source": [
        "hist = fulldfn[NA_cols].hist(bins=50,figsize =(5,5))"
      ],
      "execution_count": 0,
      "outputs": [
        {
          "output_type": "display_data",
          "data": {
            "image/png": "[encoded data removed]",
            "text/plain": [
              "<Figure size 360x360 with 4 Axes>"
            ]
          },
          "metadata": {
            "tags": []
          }
        }
      ]
    },
    {
      "cell_type": "markdown",
      "metadata": {
        "id": "3V4NZ1cCTs7r",
        "colab_type": "text"
      },
      "source": [
        "\n",
        "\n",
        "---\n",
        "\n"
      ]
    },
    {
      "cell_type": "markdown",
      "metadata": {
        "id": "KZJUjeXV6O3p",
        "colab_type": "text"
      },
      "source": [
        "### Data Types: Data Science Knowledge Question"
      ]
    },
    {
      "cell_type": "markdown",
      "metadata": {
        "id": "jTCSDpNnfAP3",
        "colab_type": "text"
      },
      "source": [
        "Assuming the NA values have been handled appropriately. We now consider the different data types in our data frame.\n",
        "\n",
        "\n",
        "1.   What types of data are in this data frame? \n",
        "2.   Can we use all data types as they are in our model building step?\n",
        "\n"
      ]
    },
    {
      "cell_type": "code",
      "metadata": {
        "id": "2i74K0cAg4Lg",
        "colab_type": "code",
        "outputId": "8601c707-21c5-46dd-feaa-5d12f2f09b4e",
        "colab": {
          "base_uri": "https://localhost:8080/",
          "height": 302
        }
      },
      "source": [
        "df.info()"
      ],
      "execution_count": 0,
      "outputs": [
        {
          "output_type": "stream",
          "text": [
            "<class 'pandas.core.frame.DataFrame'>\n",
            "RangeIndex: 156 entries, 0 to 155\n",
            "Data columns (total 12 columns):\n",
            "Manufacturer          156 non-null object\n",
            "Model                 156 non-null object\n",
            "Sales in thousands    156 non-null float64\n",
            "Vehicle type          156 non-null object\n",
            "Engine size           156 non-null float64\n",
            "Horsepower            156 non-null int64\n",
            "Wheelbase             156 non-null float64\n",
            "Width                 156 non-null float64\n",
            "Length                156 non-null float64\n",
            "Fuel capacity         156 non-null float64\n",
            "Latest Launch         156 non-null object\n",
            "Region                156 non-null object\n",
            "dtypes: float64(6), int64(1), object(5)\n",
            "memory usage: 14.7+ KB\n"
          ],
          "name": "stdout"
        }
      ]
    },
    {
      "cell_type": "code",
      "metadata": {
        "id": "Z9c-xckcZ3Uv",
        "colab_type": "code",
        "outputId": "35728c0e-3d27-44e8-e929-1223ccbdddb2",
        "colab": {
          "base_uri": "https://localhost:8080/",
          "height": 84
        }
      },
      "source": [
        "df.columns"
      ],
      "execution_count": 0,
      "outputs": [
        {
          "output_type": "execute_result",
          "data": {
            "text/plain": [
              "Index(['Manufacturer', 'Model', 'Sales in thousands', 'Vehicle type',\n",
              "       'Engine size', 'Horsepower', 'Wheelbase', 'Width', 'Length',\n",
              "       'Fuel capacity', 'Latest Launch', 'Region'],\n",
              "      dtype='object')"
            ]
          },
          "metadata": {
            "tags": []
          },
          "execution_count": 13
        }
      ]
    },
    {
      "cell_type": "code",
      "metadata": {
        "id": "urkyLg6byzBN",
        "colab_type": "code",
        "colab": {}
      },
      "source": [
        ""
      ],
      "execution_count": 0,
      "outputs": []
    }
  ]
}