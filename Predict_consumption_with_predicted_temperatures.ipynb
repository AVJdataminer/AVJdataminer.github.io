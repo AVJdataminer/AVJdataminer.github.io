{
  "nbformat": 4,
  "nbformat_minor": 0,
  "metadata": {
    "colab": {
      "name": "Predict consumption with predicted temperatures.ipynb",
      "version": "0.3.2",
      "provenance": [],
      "collapsed_sections": [],
      "toc_visible": true,
      "include_colab_link": true
    },
    "kernelspec": {
      "name": "python3",
      "display_name": "Python 3"
    },
    "accelerator": "GPU"
  },
  "cells": [
    {
      "cell_type": "markdown",
      "metadata": {
        "id": "view-in-github",
        "colab_type": "text"
      },
      "source": [
        "<a href=\"https://colab.research.google.com/github/AVJdataminer/AVJdataminer.github.io/blob/master/Predict_consumption_with_predicted_temperatures.ipynb\" target=\"_parent\"><img src=\"https://colab.research.google.com/assets/colab-badge.svg\" alt=\"Open In Colab\"/></a>"
      ]
    },
    {
      "metadata": {
        "id": "d5WtDM-5IVo3",
        "colab_type": "text"
      },
      "cell_type": "markdown",
      "source": [
        "Load the modules and list files in my directory."
      ]
    },
    {
      "metadata": {
        "id": "0UVvhvS1pvgF",
        "colab_type": "code",
        "outputId": "f228b671-6063-47f0-e1c3-ad4da6185097",
        "colab": {
          "base_uri": "https://localhost:8080/",
          "height": 170
        }
      },
      "cell_type": "code",
      "source": [
        "import pandas as pd\n",
        "%matplotlib inline\n",
        "import matplotlib.pyplot as plt\n",
        "import seaborn as sns\n",
        "from sklearn.model_selection import train_test_split\n",
        "import datetime\n",
        "import os\n",
        "os.listdir()"
      ],
      "execution_count": 2,
      "outputs": [
        {
          "output_type": "execute_result",
          "data": {
            "text/plain": [
              "['sample_data',\n",
              " '.config',\n",
              " 'pred_submit20181017-2209.csv',\n",
              " 'pred_submit20181017-2206.csv',\n",
              " 'temperatures_to_train_on_20181017-1116.csv',\n",
              " 'temperatures_pred_submit20181017-1912.csv',\n",
              " 'data_to_train_on_20181017-1359.csv',\n",
              " 'temperatures_to_train_on_20181017-1022.csv',\n",
              " 'temperatures_pred_trntest20181017-1919.csv']"
            ]
          },
          "metadata": {
            "tags": []
          },
          "execution_count": 2
        }
      ]
    },
    {
      "metadata": {
        "id": "PZV7yX3GIdcw",
        "colab_type": "text"
      },
      "cell_type": "markdown",
      "source": [
        "Load data "
      ]
    },
    {
      "metadata": {
        "id": "uzJh3XOrpvgM",
        "colab_type": "code",
        "outputId": "bc92a490-e24d-474a-fc79-6c74af068762",
        "colab": {
          "base_uri": "https://localhost:8080/",
          "height": 204
        }
      },
      "cell_type": "code",
      "source": [
        "url=\"data_to_train_on_20181017-1359.csv\"\n",
        "train=pd.read_csv(url)\n",
        "train.drop(['Unnamed: 0','timestamp'], axis=1, inplace=True)\n",
        "train.head()"
      ],
      "execution_count": 3,
      "outputs": [
        {
          "output_type": "execute_result",
          "data": {
            "text/html": [
              "<div>\n",
              "<style scoped>\n",
              "    .dataframe tbody tr th:only-of-type {\n",
              "        vertical-align: middle;\n",
              "    }\n",
              "\n",
              "    .dataframe tbody tr th {\n",
              "        vertical-align: top;\n",
              "    }\n",
              "\n",
              "    .dataframe thead th {\n",
              "        text-align: right;\n",
              "    }\n",
              "</style>\n",
              "<table border=\"1\" class=\"dataframe\">\n",
              "  <thead>\n",
              "    <tr style=\"text-align: right;\">\n",
              "      <th></th>\n",
              "      <th>series_id</th>\n",
              "      <th>consumption</th>\n",
              "      <th>temperature</th>\n",
              "      <th>wkday</th>\n",
              "      <th>hour</th>\n",
              "      <th>day_of_yr</th>\n",
              "      <th>year</th>\n",
              "    </tr>\n",
              "  </thead>\n",
              "  <tbody>\n",
              "    <tr>\n",
              "      <th>0</th>\n",
              "      <td>103088</td>\n",
              "      <td>143709.717612</td>\n",
              "      <td>-4.675</td>\n",
              "      <td>1</td>\n",
              "      <td>17</td>\n",
              "      <td>364</td>\n",
              "      <td>2014</td>\n",
              "    </tr>\n",
              "    <tr>\n",
              "      <th>1</th>\n",
              "      <td>103088</td>\n",
              "      <td>157424.927949</td>\n",
              "      <td>-5.000</td>\n",
              "      <td>1</td>\n",
              "      <td>18</td>\n",
              "      <td>364</td>\n",
              "      <td>2014</td>\n",
              "    </tr>\n",
              "    <tr>\n",
              "      <th>2</th>\n",
              "      <td>103088</td>\n",
              "      <td>153370.363034</td>\n",
              "      <td>-4.400</td>\n",
              "      <td>2</td>\n",
              "      <td>14</td>\n",
              "      <td>365</td>\n",
              "      <td>2014</td>\n",
              "    </tr>\n",
              "    <tr>\n",
              "      <th>3</th>\n",
              "      <td>103088</td>\n",
              "      <td>137602.089769</td>\n",
              "      <td>-4.650</td>\n",
              "      <td>2</td>\n",
              "      <td>15</td>\n",
              "      <td>365</td>\n",
              "      <td>2014</td>\n",
              "    </tr>\n",
              "    <tr>\n",
              "      <th>4</th>\n",
              "      <td>103088</td>\n",
              "      <td>131771.016064</td>\n",
              "      <td>-5.100</td>\n",
              "      <td>2</td>\n",
              "      <td>16</td>\n",
              "      <td>365</td>\n",
              "      <td>2014</td>\n",
              "    </tr>\n",
              "  </tbody>\n",
              "</table>\n",
              "</div>"
            ],
            "text/plain": [
              "   series_id    consumption  temperature  wkday  hour  day_of_yr  year\n",
              "0     103088  143709.717612       -4.675      1    17        364  2014\n",
              "1     103088  157424.927949       -5.000      1    18        364  2014\n",
              "2     103088  153370.363034       -4.400      2    14        365  2014\n",
              "3     103088  137602.089769       -4.650      2    15        365  2014\n",
              "4     103088  131771.016064       -5.100      2    16        365  2014"
            ]
          },
          "metadata": {
            "tags": []
          },
          "execution_count": 3
        }
      ]
    },
    {
      "metadata": {
        "id": "9brKduTTpvgP",
        "colab_type": "code",
        "colab": {
          "base_uri": "https://localhost:8080/",
          "height": 252
        },
        "outputId": "34667da3-cb3b-4c96-bc90-21e50ce1cdcc"
      },
      "cell_type": "code",
      "source": [
        "#scale input data\n",
        "y=train['consumption'].values\n",
        "from sklearn.preprocessing import StandardScaler\n",
        "sc = StandardScaler()\n",
        "X=sc.fit_transform(train.drop(['consumption'], axis=1).values)\n",
        "#split into train and test set\n",
        "X_train, X_test, y_train, y_test = train_test_split(X, y, test_size=0.33, random_state=42)"
      ],
      "execution_count": 1,
      "outputs": [
        {
          "output_type": "error",
          "ename": "NameError",
          "evalue": "ignored",
          "traceback": [
            "\u001b[0;31m---------------------------------------------------------------------------\u001b[0m",
            "\u001b[0;31mNameError\u001b[0m                                 Traceback (most recent call last)",
            "\u001b[0;32m<ipython-input-1-32aabc0c16c7>\u001b[0m in \u001b[0;36m<module>\u001b[0;34m()\u001b[0m\n\u001b[0;32m----> 1\u001b[0;31m \u001b[0my\u001b[0m\u001b[0;34m=\u001b[0m\u001b[0mtrain\u001b[0m\u001b[0;34m[\u001b[0m\u001b[0;34m'consumption'\u001b[0m\u001b[0;34m]\u001b[0m\u001b[0;34m.\u001b[0m\u001b[0mvalues\u001b[0m\u001b[0;34m\u001b[0m\u001b[0m\n\u001b[0m\u001b[1;32m      2\u001b[0m \u001b[0;32mfrom\u001b[0m \u001b[0msklearn\u001b[0m\u001b[0;34m.\u001b[0m\u001b[0mpreprocessing\u001b[0m \u001b[0;32mimport\u001b[0m \u001b[0mStandardScaler\u001b[0m\u001b[0;34m\u001b[0m\u001b[0m\n\u001b[1;32m      3\u001b[0m \u001b[0msc\u001b[0m \u001b[0;34m=\u001b[0m \u001b[0mStandardScaler\u001b[0m\u001b[0;34m(\u001b[0m\u001b[0;34m)\u001b[0m\u001b[0;34m\u001b[0m\u001b[0m\n\u001b[1;32m      4\u001b[0m \u001b[0mX\u001b[0m\u001b[0;34m=\u001b[0m\u001b[0msc\u001b[0m\u001b[0;34m.\u001b[0m\u001b[0mfit_transform\u001b[0m\u001b[0;34m(\u001b[0m\u001b[0mtrain\u001b[0m\u001b[0;34m.\u001b[0m\u001b[0mdrop\u001b[0m\u001b[0;34m(\u001b[0m\u001b[0;34m[\u001b[0m\u001b[0;34m'consumption'\u001b[0m\u001b[0;34m]\u001b[0m\u001b[0;34m,\u001b[0m \u001b[0maxis\u001b[0m\u001b[0;34m=\u001b[0m\u001b[0;36m1\u001b[0m\u001b[0;34m)\u001b[0m\u001b[0;34m.\u001b[0m\u001b[0mvalues\u001b[0m\u001b[0;34m)\u001b[0m\u001b[0;34m\u001b[0m\u001b[0m\n\u001b[1;32m      5\u001b[0m \u001b[0;31m#split into train and test set\u001b[0m\u001b[0;34m\u001b[0m\u001b[0;34m\u001b[0m\u001b[0m\n",
            "\u001b[0;31mNameError\u001b[0m: name 'train' is not defined"
          ]
        }
      ]
    },
    {
      "metadata": {
        "id": "_GjAC3PpXJcZ",
        "colab_type": "code",
        "colab": {}
      },
      "cell_type": "code",
      "source": [
        "y_train"
      ],
      "execution_count": 0,
      "outputs": []
    },
    {
      "metadata": {
        "id": "edgG7HxbpvgT",
        "colab_type": "code",
        "colab": {}
      },
      "cell_type": "code",
      "source": [
        "from sklearn.preprocessing import MinMaxScaler\n",
        "from __future__ import absolute_import, division, print_function\n",
        "import tensorflow as tf\n",
        "from tensorflow import keras\n",
        "print(tf.__version__)"
      ],
      "execution_count": 0,
      "outputs": []
    },
    {
      "metadata": {
        "id": "25Du0r0opvgW",
        "colab_type": "code",
        "colab": {}
      },
      "cell_type": "code",
      "source": [
        "def build_model():\n",
        "  model = keras.Sequential([\n",
        "    keras.layers.Dense(64, activation=tf.nn.relu,\n",
        "                       input_shape=(X_train.shape[1],)),\n",
        "    keras.layers.Dense(64, activation=tf.nn.relu),\n",
        "    keras.layers.Dense(1)\n",
        "  ])\n",
        "\n",
        "  optimizer = tf.train.RMSPropOptimizer(0.001)\n",
        "\n",
        "  model.compile(loss='mse',\n",
        "                optimizer=optimizer,\n",
        "                metrics=['mae'])\n",
        "  return model\n",
        "\n",
        "model = build_model()\n",
        "model.summary()"
      ],
      "execution_count": 0,
      "outputs": []
    },
    {
      "metadata": {
        "id": "Tg-9ax5JpvgY",
        "colab_type": "code",
        "colab": {}
      },
      "cell_type": "code",
      "source": [
        "# Display training progress by printing a single dot for each completed epoch\n",
        "class PrintDot(keras.callbacks.Callback):\n",
        "  def on_epoch_end(self, epoch, logs):\n",
        "    if epoch % 100 == 0: print('')\n",
        "    print('.', end='')\n",
        "\n",
        "EPOCHS = 100\n",
        "\n",
        "# Store training stats\n",
        "history = model.fit(X_train, y_train, epochs=EPOCHS,\n",
        "                    validation_split=0.2, verbose=0,\n",
        "                    callbacks=[PrintDot()])"
      ],
      "execution_count": 0,
      "outputs": []
    },
    {
      "metadata": {
        "id": "4pf5JyOApvgf",
        "colab_type": "code",
        "colab": {}
      },
      "cell_type": "code",
      "source": [
        "[loss, mae] = model.evaluate(X_test, y_test, verbose=0)\n",
        "print(\"Testing set Mean Abs Error: {:7.2f}\".format(mae * 1))"
      ],
      "execution_count": 0,
      "outputs": []
    },
    {
      "metadata": {
        "id": "M6d241h4pvgh",
        "colab_type": "code",
        "colab": {}
      },
      "cell_type": "code",
      "source": [
        "test_pred = model.predict(X_test).flatten()\n",
        "plt.scatter(y_test, test_pred)\n",
        "plt.xlabel('True Values')\n",
        "plt.ylabel('Predictions')\n",
        "plt.axis('equal')\n",
        "plt.xlim(plt.xlim())\n",
        "plt.ylim(plt.ylim())\n",
        "_ = plt.plot([-10, 10], [-10, 10])"
      ],
      "execution_count": 0,
      "outputs": []
    },
    {
      "metadata": {
        "id": "tDfMHOtWDz3Z",
        "colab_type": "code",
        "colab": {}
      },
      "cell_type": "code",
      "source": [
        "test_pred"
      ],
      "execution_count": 0,
      "outputs": []
    },
    {
      "metadata": {
        "id": "RwIiowdXUQFk",
        "colab_type": "code",
        "colab": {}
      },
      "cell_type": "code",
      "source": [
        "url=\"https://s3.amazonaws.com/drivendata/data/55/public/submission_format.csv\"\n",
        "submit=pd.read_csv(url)\n",
        "#submit.dropna(inplace=True)\n",
        "#get predicted temps to fill na's\n",
        "df=pd.read_csv('temperatures_pred_submit20181017-1912.csv')\n",
        "submit['temperature']=submit['temperature'].fillna(df['temp_pred'])\n",
        "submit['temperature'].fillna(0, inplace=True)\n",
        "submit.isnull().sum()\n"
      ],
      "execution_count": 0,
      "outputs": []
    },
    {
      "metadata": {
        "id": "qKYOPMkKX_72",
        "colab_type": "code",
        "colab": {}
      },
      "cell_type": "code",
      "source": [
        "submit.set_index('timestamp')\n",
        "submit['timestamp'] =  pd.to_datetime(submit['timestamp'], format=\"%Y-%m-%d %H:%M:%S\")\n",
        "submit['wkday']=submit['timestamp'].dt.weekday\n",
        "submit['hour']=submit['timestamp'].dt.strftime('%H').astype(int)\n",
        "submit['day_of_yr']=submit['timestamp'].dt.strftime('%j').astype(int)\n",
        "submit[\"year\"] = submit[\"timestamp\"].dt.year\n",
        "submit.drop(['pred_id','consumption','timestamp','prediction_window'], axis=1, inplace=True)\n",
        "submit.head()\n",
        "X=sc.fit_transform(submit)\n",
        "X"
      ],
      "execution_count": 0,
      "outputs": []
    },
    {
      "metadata": {
        "id": "YR8c5fIUVa5J",
        "colab_type": "code",
        "colab": {}
      },
      "cell_type": "code",
      "source": [
        "url=\"https://s3.amazonaws.com/drivendata/data/55/public/submission_format.csv\"\n",
        "submit_out=pd.read_csv(url)\n",
        "#submit_out.dropna(inplace=True)\n",
        "submit_out['consumption'] = model.predict(X).flatten()\n",
        "submit_out.head()\n",
        "submit_out.set_index('pred_id')"
      ],
      "execution_count": 0,
      "outputs": []
    },
    {
      "metadata": {
        "id": "TA0YbHmFABxU",
        "colab_type": "code",
        "colab": {}
      },
      "cell_type": "code",
      "source": [
        "#build the predictions csv\n",
        "file_time = 'pred_submit' + datetime.datetime.now().strftime(\"%Y%m%d-%H%M\")+'.csv'\n",
        "submit_out.to_csv(file_time)"
      ],
      "execution_count": 0,
      "outputs": []
    },
    {
      "metadata": {
        "id": "1UgkFF8k_1Mx",
        "colab_type": "code",
        "colab": {}
      },
      "cell_type": "code",
      "source": [
        "len(submit_out)"
      ],
      "execution_count": 0,
      "outputs": []
    },
    {
      "metadata": {
        "id": "bYFyT0KtZniK",
        "colab_type": "code",
        "colab": {}
      },
      "cell_type": "code",
      "source": [
        "[loss, mae] = model.evaluate(X, submit_out['consumption'], verbose=0)\n",
        "print(\"Testing set Mean Abs Error: {:7.2f}\".format(mae * 1))"
      ],
      "execution_count": 0,
      "outputs": []
    },
    {
      "metadata": {
        "id": "ekGOD0QFpvgo",
        "colab_type": "code",
        "colab": {}
      },
      "cell_type": "code",
      "source": [
        "error = (submit_out['cons_pred']) - submit_out['consumption']\n",
        "plt.hist(error, bins = 50)\n",
        "plt.xlabel(\"Prediction Error\")\n",
        "_ = plt.ylabel(\"Count\")"
      ],
      "execution_count": 0,
      "outputs": []
    },
    {
      "metadata": {
        "id": "iMsOzHskpvgr",
        "colab_type": "code",
        "colab": {}
      },
      "cell_type": "code",
      "source": [
        ""
      ],
      "execution_count": 0,
      "outputs": []
    },
    {
      "metadata": {
        "id": "rg6XNg9Qpvgw",
        "colab_type": "code",
        "colab": {}
      },
      "cell_type": "code",
      "source": [
        ""
      ],
      "execution_count": 0,
      "outputs": []
    },
    {
      "metadata": {
        "id": "QEfvplVCpvgy",
        "colab_type": "code",
        "colab": {}
      },
      "cell_type": "code",
      "source": [
        ""
      ],
      "execution_count": 0,
      "outputs": []
    }
  ]
}