{
  "nbformat": 4,
  "nbformat_minor": 0,
  "metadata": {
    "kernelspec": {
      "display_name": "Python 3",
      "language": "python",
      "name": "python3"
    },
    "language_info": {
      "codemirror_mode": {
        "name": "ipython",
        "version": 3
      },
      "file_extension": ".py",
      "mimetype": "text/x-python",
      "name": "python",
      "nbconvert_exporter": "python",
      "pygments_lexer": "ipython3",
      "version": "3.5.4"
    },
    "toc": {
      "base_numbering": 1,
      "nav_menu": {},
      "number_sections": true,
      "sideBar": true,
      "skip_h1_title": false,
      "title_cell": "Table of Contents",
      "title_sidebar": "Contents",
      "toc_cell": true,
      "toc_position": {},
      "toc_section_display": true,
      "toc_window_display": false
    },
    "colab": {
      "name": "Shovon Facebook Project Steps 1-3 .ipynb",
      "provenance": [],
      "include_colab_link": true
    }
  },
  "cells": [
    {
      "cell_type": "markdown",
      "metadata": {
        "id": "view-in-github",
        "colab_type": "text"
      },
      "source": [
        "<a href=\"https://colab.research.google.com/github/AVJdataminer/AVJdataminer.github.io/blob/master/Shovon_Facebook_Project_Steps_1_3_.ipynb\" target=\"_parent\"><img src=\"https://colab.research.google.com/assets/colab-badge.svg\" alt=\"Open In Colab\"/></a>"
      ]
    },
    {
      "cell_type": "markdown",
      "metadata": {
        "toc": true,
        "id": "RAsKwlJIayve",
        "colab_type": "text"
      },
      "source": [
        "<h1>Table of Contents<span class=\"tocSkip\"></span></h1>\n",
        "<div class=\"toc\"><ul class=\"toc-item\"><li><span><a href=\"#1.-Problem-Identification\" data-toc-modified-id=\"1.-Problem-Identification-1\"><span class=\"toc-item-num\">1&nbsp;&nbsp;</span>1. Problem Identification</a></span></li><li><span><a href=\"#2.-Data-Collection,-Organization,-and-Definitions\" data-toc-modified-id=\"2.-Data-Collection,-Organization,-and-Definitions-2\"><span class=\"toc-item-num\">2&nbsp;&nbsp;</span>2. Data Collection, Organization, and Definitions</a></span><ul class=\"toc-item\"><li><span><a href=\"#In-addition-apply-data-collection-steps-now.\" data-toc-modified-id=\"In-addition-apply-data-collection-steps-now.-2.1\"><span class=\"toc-item-num\">2.1&nbsp;&nbsp;</span>In addition apply data collection steps now.</a></span><ul class=\"toc-item\"><li><span><a href=\"#Start-with-loading-all-the-usual-packages.\" data-toc-modified-id=\"Start-with-loading-all-the-usual-packages.-2.1.1\"><span class=\"toc-item-num\">2.1.1&nbsp;&nbsp;</span>Start with loading all the usual packages.</a></span></li><li><span><a href=\"#Load-the-data-sets-and-Combine-them.\" data-toc-modified-id=\"Load-the-data-sets-and-Combine-them.-2.1.2\"><span class=\"toc-item-num\">2.1.2&nbsp;&nbsp;</span>Load the data sets and Combine them.</a></span></li></ul></li><li><span><a href=\"#Data-Organization\" data-toc-modified-id=\"Data-Organization-2.2\"><span class=\"toc-item-num\">2.2&nbsp;&nbsp;</span>Data Organization</a></span><ul class=\"toc-item\"><li><span><a href=\"#Create-your-directory-subfolders\" data-toc-modified-id=\"Create-your-directory-subfolders-2.2.1\"><span class=\"toc-item-num\">2.2.1&nbsp;&nbsp;</span>Create your directory subfolders</a></span></li></ul></li><li><span><a href=\"#Data-Definitions\" data-toc-modified-id=\"Data-Definitions-2.3\"><span class=\"toc-item-num\">2.3&nbsp;&nbsp;</span>Data Definitions</a></span><ul class=\"toc-item\"><li><span><a href=\"#Print-Column-Names\" data-toc-modified-id=\"Print-Column-Names-2.3.1\"><span class=\"toc-item-num\">2.3.1&nbsp;&nbsp;</span>Print Column Names</a></span></li><li><span><a href=\"#Range-of-Values-or-Codes\" data-toc-modified-id=\"Range-of-Values-or-Codes-2.3.2\"><span class=\"toc-item-num\">2.3.2&nbsp;&nbsp;</span>Range of Values or Codes</a></span></li><li><span><a href=\"#Data-Types-based-selection\" data-toc-modified-id=\"Data-Types-based-selection-2.3.3\"><span class=\"toc-item-num\">2.3.3&nbsp;&nbsp;</span>Data Types based selection</a></span></li><li><span><a href=\"#Data-Column-Description\" data-toc-modified-id=\"Data-Column-Description-2.3.4\"><span class=\"toc-item-num\">2.3.4&nbsp;&nbsp;</span>Data Column Description</a></span></li><li><span><a href=\"#Identify-the-number-if-NA-or-missing-values\" data-toc-modified-id=\"Identify-the-number-if-NA-or-missing-values-2.3.5\"><span class=\"toc-item-num\">2.3.5&nbsp;&nbsp;</span>Identify the number if NA or missing values</a></span></li></ul></li></ul></li><li><span><a href=\"#Exploratory-Data-Analysis\" data-toc-modified-id=\"Exploratory-Data-Analysis-3\"><span class=\"toc-item-num\">3&nbsp;&nbsp;</span>Exploratory Data Analysis</a></span><ul class=\"toc-item\"><li><ul class=\"toc-item\"><li><span><a href=\"#Data-Cleaning\" data-toc-modified-id=\"Data-Cleaning-3.0.1\"><span class=\"toc-item-num\">3.0.1&nbsp;&nbsp;</span>Data Cleaning</a></span></li><li><span><a href=\"#Histograms\" data-toc-modified-id=\"Histograms-3.0.2\"><span class=\"toc-item-num\">3.0.2&nbsp;&nbsp;</span>Histograms</a></span></li><li><span><a href=\"#Reviewing-for-Outliers-and-Anamolies\" data-toc-modified-id=\"Reviewing-for-Outliers-and-Anamolies-3.0.3\"><span class=\"toc-item-num\">3.0.3&nbsp;&nbsp;</span>Reviewing for Outliers and Anamolies</a></span></li><li><span><a href=\"#Data-Relationships\" data-toc-modified-id=\"Data-Relationships-3.0.4\"><span class=\"toc-item-num\">3.0.4&nbsp;&nbsp;</span>Data Relationships</a></span></li></ul></li></ul></li><li><span><a href=\"#Review-Clustering-Algorithms\" data-toc-modified-id=\"Review-Clustering-Algorithms-4\"><span class=\"toc-item-num\">4&nbsp;&nbsp;</span>Review Clustering Algorithms</a></span></li></ul></div>"
      ]
    },
    {
      "cell_type": "markdown",
      "metadata": {
        "nbgrader": {
          "grade": false,
          "grade_id": "jupyter",
          "locked": true,
          "schema_version": 3,
          "solution": false
        },
        "id": "tNuA9x83ayv7",
        "colab_type": "text"
      },
      "source": [
        "This is a portfolio project step that is part of the Data Science Method developed by Aiden V. Johnson as part of Breakthrough Data Science Course.\n",
        "\n",
        "![](Breakthrough_Logo_dark_blue_small.png)"
      ]
    },
    {
      "cell_type": "markdown",
      "metadata": {
        "id": "zYZRzhEGaywG",
        "colab_type": "text"
      },
      "source": [
        "---\n",
        "## 1. Problem Identification\n",
        "\n",
        "Write a brief paragraph to describe your project. Start by identifying the goal of the data science project. Ask the question: Is this an exploratory project or a predictive modeling project or both? Consider answering the following questions in your response.\n",
        "1. Is the goal of this project exploratory or predictive?\n",
        "2. Identify the use of the completed model or expected outcome of exploratory work; consider supervised or unsupervised methods.\n",
        "3. Determine if the data you have will answer number two or if the data needed is available?\n",
        "4. Define the data timeline or temporal scale of interest?\n",
        "5. Describe and identify the modeling response variable?\n",
        "6. Ask yourself if this is a classification or regression problem?\n",
        "7. What deliverables will be provided at the completion of this modeling project?"
      ]
    },
    {
      "cell_type": "markdown",
      "metadata": {
        "nbgrader": {
          "grade": false,
          "grade_id": "squares",
          "locked": false,
          "schema_version": 3,
          "solution": true
        },
        "id": "xIwGKzhpaywO",
        "colab_type": "text"
      },
      "source": [
        "Answer#1:\n",
        "\n",
        "\n"
      ]
    },
    {
      "cell_type": "markdown",
      "metadata": {
        "id": "iK39vIp2aywX",
        "colab_type": "text"
      },
      "source": [
        "---\n",
        "\n",
        "## 2. Data Collection, Organization, and Definitions\n",
        "1. List your data sources and download the associated data to your working directory."
      ]
    },
    {
      "cell_type": "markdown",
      "metadata": {
        "id": "ZhQ0yMTxaywh",
        "colab_type": "text"
      },
      "source": [
        "List your data:"
      ]
    },
    {
      "cell_type": "markdown",
      "metadata": {
        "id": "7bxlqm2Daywr",
        "colab_type": "text"
      },
      "source": [
        "Then use the next cell to print the list of files in your working directory."
      ]
    },
    {
      "cell_type": "code",
      "metadata": {
        "id": "EIBrVWwYayxK",
        "colab_type": "code",
        "outputId": "0bd21919-977b-48ed-940a-2155ef4bb131",
        "colab": {}
      },
      "source": [
        "import os\n",
        "#path=\"C:\\Projects\\\"\n",
        "#os.chdir(path) #use this change the directory if you need to.\n",
        "os.listdir()"
      ],
      "execution_count": 0,
      "outputs": [
        {
          "output_type": "execute_result",
          "data": {
            "text/plain": [
              "['problem2.ipynb',\n",
              " 'Shovon Facebook Project Steps 1-3 .ipynb',\n",
              " 'Breakthrough_Logo_dark_blue_small.png',\n",
              " '.ipynb_checkpoints']"
            ]
          },
          "metadata": {
            "tags": []
          },
          "execution_count": 1
        }
      ]
    },
    {
      "cell_type": "markdown",
      "metadata": {
        "nbgrader": {
          "grade": false,
          "grade_id": "sum_of_squares",
          "locked": false,
          "schema_version": 3,
          "solution": true
        },
        "id": "D3m0WHY-ayyQ",
        "colab_type": "text"
      },
      "source": [
        "### In addition apply data collection steps now. \n",
        "For example, if you're joining data from two data sources based on overlapping time periods perform that work in the next cell or two, until you have one cohesive dataframe. \n",
        "#### Start with loading all the usual packages."
      ]
    },
    {
      "cell_type": "code",
      "metadata": {
        "id": "ECLyQ22oayye",
        "colab_type": "code",
        "colab": {}
      },
      "source": [
        "import os\n",
        "import pandas as pd\n",
        "import datetime\n",
        "import seaborn as sns\n",
        "import matplotlib.pyplot as plt\n",
        "import numpy as np\n",
        "%matplotlib inline"
      ],
      "execution_count": 0,
      "outputs": []
    },
    {
      "cell_type": "markdown",
      "metadata": {
        "id": "7P52E0Z8ayy2",
        "colab_type": "text"
      },
      "source": [
        "#### Load the data sets and Combine them."
      ]
    },
    {
      "cell_type": "code",
      "metadata": {
        "nbgrader": {
          "grade": true,
          "grade_id": "correct_sum_of_squares",
          "locked": false,
          "points": 0.5,
          "schema_version": 3,
          "solution": false
        },
        "id": "qZHQUZ6nayzB",
        "colab_type": "code",
        "colab": {}
      },
      "source": [
        "#file=\"dataset_00_with_header.csv\"\n",
        "df=pd.read_csv(file)\n",
        "print(df.shape)"
      ],
      "execution_count": 0,
      "outputs": []
    },
    {
      "cell_type": "code",
      "metadata": {
        "id": "1_E68W42ayzp",
        "colab_type": "code",
        "colab": {}
      },
      "source": [
        ""
      ],
      "execution_count": 0,
      "outputs": []
    },
    {
      "cell_type": "markdown",
      "metadata": {
        "nbgrader": {
          "grade": true,
          "grade_id": "sum_of_squares_uses_squares",
          "locked": false,
          "points": 0.5,
          "schema_version": 3,
          "solution": false
        },
        "id": "biYca8Nqay1R",
        "colab_type": "text"
      },
      "source": [
        "### Data Organization"
      ]
    },
    {
      "cell_type": "markdown",
      "metadata": {
        "id": "ksN3LCreay1Z",
        "colab_type": "text"
      },
      "source": [
        "#### Create your directory subfolders \n",
        "Complete the python function in the code block below and run it to create a directory tree."
      ]
    },
    {
      "cell_type": "code",
      "metadata": {
        "id": "hDw8H6osay2O",
        "colab_type": "code",
        "colab": {}
      },
      "source": [
        "#create directory tree\n",
        "import os\n",
        "\n",
        "def createFolder(directory):\n",
        "    try:\n",
        "        if not os.path.exists(directory):\n",
        "            os.makedirs(directory)\n",
        "    except OSError:\n",
        "        print ('Error: Creating directory. ' +  directory)\n",
        "createFolder('./data/raw')\n",
        "createFolder('./data/processed')\n",
        "createFolder('./data/interim')\n",
        "createFolder('./models')\n",
        "createFolder('./reports')\n",
        "createFolder('./src')"
      ],
      "execution_count": 0,
      "outputs": []
    },
    {
      "cell_type": "markdown",
      "metadata": {
        "id": "bq1ALKsAay2u",
        "colab_type": "text"
      },
      "source": [
        "This will make your project folder tree looking similar to this.\n",
        "\n",
        "![](folder_tree.png)"
      ]
    },
    {
      "cell_type": "markdown",
      "metadata": {
        "id": "Vx0PMJDUay22",
        "colab_type": "text"
      },
      "source": [
        "---\n",
        "### Data Definitions\n",
        "The data definition should contain the following items by column:"
      ]
    },
    {
      "cell_type": "markdown",
      "metadata": {
        "id": "6zTFtdOnay3G",
        "colab_type": "text"
      },
      "source": [
        "#### Print Column Names"
      ]
    },
    {
      "cell_type": "code",
      "metadata": {
        "id": "0eR-A7vSay3g",
        "colab_type": "code",
        "colab": {}
      },
      "source": [
        "df.columns"
      ],
      "execution_count": 0,
      "outputs": []
    },
    {
      "cell_type": "markdown",
      "metadata": {
        "id": "IqmO3gHHay4J",
        "colab_type": "text"
      },
      "source": [
        "#### Range of Values or Codes"
      ]
    },
    {
      "cell_type": "code",
      "metadata": {
        "id": "96aUWeqXay4s",
        "colab_type": "code",
        "colab": {}
      },
      "source": [
        "# For numeric columns\n",
        "df.info()\n",
        "df.describe()\n",
        "\n",
        "#Select object columns\n",
        "dfo = df.select_dtypes(include=['object'])\n",
        "#get levels for all object variables\n",
        "vn = pd.DataFrame(dfo.nunique()).reset_index()\n",
        "vn.columns = ['VarName', 'LevelsCount']\n",
        "vn"
      ],
      "execution_count": 0,
      "outputs": []
    },
    {
      "cell_type": "markdown",
      "metadata": {
        "id": "S48zRjP7ay55",
        "colab_type": "text"
      },
      "source": [
        "#### Data Types based selection"
      ]
    },
    {
      "cell_type": "code",
      "metadata": {
        "id": "hqDthuEMay6A",
        "colab_type": "code",
        "colab": {}
      },
      "source": [
        "#Select object columns\n",
        "dfo = df.select_dtypes(include=['object'])\n",
        "dfn = df.select_dtypes(exclude=['object'])"
      ],
      "execution_count": 0,
      "outputs": []
    },
    {
      "cell_type": "markdown",
      "metadata": {
        "id": "i2r23OC8ay6c",
        "colab_type": "text"
      },
      "source": [
        "#### Data Column Description\n",
        "This can now be completed by the data scientist based on findings"
      ]
    },
    {
      "cell_type": "markdown",
      "metadata": {
        "id": "PmhvdJB7ay6k",
        "colab_type": "text"
      },
      "source": [
        "#### Identify the number if NA or missing values"
      ]
    },
    {
      "cell_type": "code",
      "metadata": {
        "id": "lPUhGxasay6p",
        "colab_type": "code",
        "colab": {}
      },
      "source": [
        "pd.DataFrame(dfn.isnull().sum().sort_values(ascending=False)/len(df)).head()"
      ],
      "execution_count": 0,
      "outputs": []
    },
    {
      "cell_type": "markdown",
      "metadata": {
        "id": "48y-p3RRay69",
        "colab_type": "text"
      },
      "source": [
        "---\n",
        "## Exploratory Data Analysis\n",
        "Generally, the exploratory analysis workflow can be broken down into four critical steps:\n",
        "* Data Cleaning\n",
        "* Building data profile tables and plots\n",
        "* Exploring data relationships - univariate and bivariate\n",
        "* Identification and creation of features"
      ]
    },
    {
      "cell_type": "markdown",
      "metadata": {
        "nbgrader": {
          "grade": true,
          "grade_id": "sum_of_squares_application",
          "locked": false,
          "points": 2,
          "schema_version": 3,
          "solution": true
        },
        "id": "ZG2ltLltay7E",
        "colab_type": "text"
      },
      "source": [
        "#### Data Cleaning\n",
        "1. Apply NA, null, or missing value mitigation\n",
        "2. Drop duplicate rows and columns"
      ]
    },
    {
      "cell_type": "markdown",
      "metadata": {
        "id": "5sxnIEjPay7I",
        "colab_type": "text"
      },
      "source": [
        "#### Histograms"
      ]
    },
    {
      "cell_type": "code",
      "metadata": {
        "id": "BNik6pkFay7N",
        "colab_type": "code",
        "colab": {}
      },
      "source": [
        "#histograms for each variable in df\n",
        "hist = df.hist(bins=10,figsize =(10,10))"
      ],
      "execution_count": 0,
      "outputs": []
    },
    {
      "cell_type": "markdown",
      "metadata": {
        "id": "ssPDZE5Pay7f",
        "colab_type": "text"
      },
      "source": [
        "#### Reviewing for Outliers and Anamolies"
      ]
    },
    {
      "cell_type": "code",
      "metadata": {
        "id": "Kd9cRLs-ay7j",
        "colab_type": "code",
        "colab": {}
      },
      "source": [
        "#create a boxplot for every column in df\n",
        "boxplot = df.boxplot(grid=False, vert=False,fontsize=15)"
      ],
      "execution_count": 0,
      "outputs": []
    },
    {
      "cell_type": "markdown",
      "metadata": {
        "id": "7TnV8jzRay70",
        "colab_type": "text"
      },
      "source": [
        "#### Data Relationships"
      ]
    },
    {
      "cell_type": "code",
      "metadata": {
        "id": "zN0OFkeDay75",
        "colab_type": "code",
        "colab": {}
      },
      "source": [
        "#create the correlation matrix heat map\n",
        "plt.figure(figsize=(14,12))\n",
        "sns.heatmap(df.corr(),linewidths=.1,cmap=\"YlGnBu\", annot=True)\n",
        "plt.yticks(rotation=0);"
      ],
      "execution_count": 0,
      "outputs": []
    },
    {
      "cell_type": "code",
      "metadata": {
        "id": "sWY5TZN1ay8P",
        "colab_type": "code",
        "colab": {}
      },
      "source": [
        "#pair plots\n",
        "g = sns.pairplot(df)"
      ],
      "execution_count": 0,
      "outputs": []
    },
    {
      "cell_type": "markdown",
      "metadata": {
        "nbgrader": {
          "grade": false,
          "grade_id": "cell-938593c4a215c6cc",
          "locked": true,
          "points": 4,
          "schema_version": 3,
          "solution": false,
          "task": true
        },
        "id": "N5grOg2bay8j",
        "colab_type": "text"
      },
      "source": [
        "---\n",
        "## Review Clustering Algorithms\n",
        "* K-means\n",
        "* Agglomerative Clustering\n",
        "* Hierarchical Clustering\n"
      ]
    },
    {
      "cell_type": "markdown",
      "metadata": {
        "id": "XJj7eUIGay8t",
        "colab_type": "text"
      },
      "source": [
        ""
      ]
    }
  ]
}