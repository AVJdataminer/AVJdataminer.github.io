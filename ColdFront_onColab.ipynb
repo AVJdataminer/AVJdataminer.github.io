{
  "nbformat": 4,
  "nbformat_minor": 0,
  "metadata": {
    "colab": {
      "name": "ColdFront_onColab.ipynb",
      "version": "0.3.2",
      "provenance": [],
      "toc_visible": true,
      "include_colab_link": true
    },
    "kernelspec": {
      "name": "python3",
      "display_name": "Python 3"
    },
    "accelerator": "GPU"
  },
  "cells": [
    {
      "cell_type": "markdown",
      "metadata": {
        "id": "view-in-github",
        "colab_type": "text"
      },
      "source": [
        "[View in Colaboratory](https://colab.research.google.com/github/AVJdataminer/AVJdataminer.github.io/blob/master/ColdFront_onColab.ipynb)"
      ]
    },
    {
      "metadata": {
        "id": "2CLgkOEcSnRY",
        "colab_type": "code",
        "colab": {
          "base_uri": "https://localhost:8080/",
          "height": 34
        },
        "outputId": "f6835852-f8d1-4cc4-a9a4-b339983de91d"
      },
      "cell_type": "code",
      "source": [
        "import os\n",
        "os.listdir()"
      ],
      "execution_count": 9,
      "outputs": [
        {
          "output_type": "execute_result",
          "data": {
            "text/plain": [
              "['sample_data', '.config']"
            ]
          },
          "metadata": {
            "tags": []
          },
          "execution_count": 9
        }
      ]
    },
    {
      "metadata": {
        "id": "I6uI554zSnRg",
        "colab_type": "code",
        "colab": {
          "base_uri": "https://localhost:8080/",
          "height": 204
        },
        "outputId": "610e4e4b-e635-45b3-94d8-863586d5abf1"
      },
      "cell_type": "code",
      "source": [
        "import pandas as pd\n",
        "url=\"https://s3.amazonaws.com/drivendata/data/55/public/consumption_train.csv\"\n",
        "train=pd.read_csv(url, index_col='Unnamed: 0')\n",
        "train.head()"
      ],
      "execution_count": 10,
      "outputs": [
        {
          "output_type": "execute_result",
          "data": {
            "text/html": [
              "<div>\n",
              "<style scoped>\n",
              "    .dataframe tbody tr th:only-of-type {\n",
              "        vertical-align: middle;\n",
              "    }\n",
              "\n",
              "    .dataframe tbody tr th {\n",
              "        vertical-align: top;\n",
              "    }\n",
              "\n",
              "    .dataframe thead th {\n",
              "        text-align: right;\n",
              "    }\n",
              "</style>\n",
              "<table border=\"1\" class=\"dataframe\">\n",
              "  <thead>\n",
              "    <tr style=\"text-align: right;\">\n",
              "      <th></th>\n",
              "      <th>series_id</th>\n",
              "      <th>timestamp</th>\n",
              "      <th>consumption</th>\n",
              "      <th>temperature</th>\n",
              "    </tr>\n",
              "  </thead>\n",
              "  <tbody>\n",
              "    <tr>\n",
              "      <th>0</th>\n",
              "      <td>103088</td>\n",
              "      <td>2014-12-24 00:00:00</td>\n",
              "      <td>101842.233424</td>\n",
              "      <td>NaN</td>\n",
              "    </tr>\n",
              "    <tr>\n",
              "      <th>1</th>\n",
              "      <td>103088</td>\n",
              "      <td>2014-12-24 01:00:00</td>\n",
              "      <td>105878.048906</td>\n",
              "      <td>NaN</td>\n",
              "    </tr>\n",
              "    <tr>\n",
              "      <th>2</th>\n",
              "      <td>103088</td>\n",
              "      <td>2014-12-24 02:00:00</td>\n",
              "      <td>91619.105008</td>\n",
              "      <td>NaN</td>\n",
              "    </tr>\n",
              "    <tr>\n",
              "      <th>3</th>\n",
              "      <td>103088</td>\n",
              "      <td>2014-12-24 03:00:00</td>\n",
              "      <td>94473.706203</td>\n",
              "      <td>NaN</td>\n",
              "    </tr>\n",
              "    <tr>\n",
              "      <th>4</th>\n",
              "      <td>103088</td>\n",
              "      <td>2014-12-24 04:00:00</td>\n",
              "      <td>96976.755526</td>\n",
              "      <td>NaN</td>\n",
              "    </tr>\n",
              "  </tbody>\n",
              "</table>\n",
              "</div>"
            ],
            "text/plain": [
              "   series_id            timestamp    consumption  temperature\n",
              "0     103088  2014-12-24 00:00:00  101842.233424          NaN\n",
              "1     103088  2014-12-24 01:00:00  105878.048906          NaN\n",
              "2     103088  2014-12-24 02:00:00   91619.105008          NaN\n",
              "3     103088  2014-12-24 03:00:00   94473.706203          NaN\n",
              "4     103088  2014-12-24 04:00:00   96976.755526          NaN"
            ]
          },
          "metadata": {
            "tags": []
          },
          "execution_count": 10
        }
      ]
    },
    {
      "metadata": {
        "id": "U1S-ddbBSnRl",
        "colab_type": "code",
        "colab": {}
      },
      "cell_type": "code",
      "source": [
        "import numpy as np\n",
        "train['temperature']= train['temperature'].fillna(train['temperature'].rolling(720, min_periods=360).mean())"
      ],
      "execution_count": 0,
      "outputs": []
    },
    {
      "metadata": {
        "id": "jfVWRGSrSnRp",
        "colab_type": "code",
        "colab": {}
      },
      "cell_type": "code",
      "source": [
        "import pandas as pd\n",
        "%matplotlib inline\n",
        "import matplotlib.pyplot as plt\n",
        "import seaborn as sns\n",
        "#sns.heatmap(train.isnull(), cbar=False)"
      ],
      "execution_count": 0,
      "outputs": []
    },
    {
      "metadata": {
        "id": "ONIeZZtlSnRu",
        "colab_type": "code",
        "colab": {}
      },
      "cell_type": "code",
      "source": [
        "train.dropna(inplace=True)"
      ],
      "execution_count": 0,
      "outputs": []
    },
    {
      "metadata": {
        "id": "OAtNXjczSnRy",
        "colab_type": "code",
        "colab": {}
      },
      "cell_type": "code",
      "source": [
        "import datetime\n",
        "\n",
        "def time_stamp(df):\n",
        "    df[\"timestamp\"] = pd.to_datetime(df[\"timestamp\"])\n",
        "    df[\"year\"] = df[\"timestamp\"].dt.year\n",
        "    df[\"month\"] =  df[\"timestamp\"].dt.month\n",
        "    df[\"day\"] = df[\"timestamp\"].dt.day \n",
        "time_stamp(train)"
      ],
      "execution_count": 0,
      "outputs": []
    },
    {
      "metadata": {
        "id": "1YdSgvTFSnR2",
        "colab_type": "code",
        "colab": {}
      },
      "cell_type": "code",
      "source": [
        "train['hour']=train['timestamp'].dt.hour\n",
        "train['wkday']=train['timestamp'].dt.weekday\n",
        "train['hour']=train['timestamp'].dt.strftime('%H')\n",
        "train['day_of_yr']=train['timestamp'].dt.strftime('%j')"
      ],
      "execution_count": 0,
      "outputs": []
    },
    {
      "metadata": {
        "id": "0ZvYNKsNSnR5",
        "colab_type": "code",
        "colab": {
          "base_uri": "https://localhost:8080/",
          "height": 224
        },
        "outputId": "0337f513-04b3-488a-8d14-22e44d344802"
      },
      "cell_type": "code",
      "source": [
        "#read in meta data\n",
        "url='https://s3.amazonaws.com/drivendata/data/55/public/meta.csv'\n",
        "meta=pd.read_csv(url)\n",
        "meta.head()"
      ],
      "execution_count": 16,
      "outputs": [
        {
          "output_type": "execute_result",
          "data": {
            "text/html": [
              "<div>\n",
              "<style scoped>\n",
              "    .dataframe tbody tr th:only-of-type {\n",
              "        vertical-align: middle;\n",
              "    }\n",
              "\n",
              "    .dataframe tbody tr th {\n",
              "        vertical-align: top;\n",
              "    }\n",
              "\n",
              "    .dataframe thead th {\n",
              "        text-align: right;\n",
              "    }\n",
              "</style>\n",
              "<table border=\"1\" class=\"dataframe\">\n",
              "  <thead>\n",
              "    <tr style=\"text-align: right;\">\n",
              "      <th></th>\n",
              "      <th>series_id</th>\n",
              "      <th>surface</th>\n",
              "      <th>base_temperature</th>\n",
              "      <th>monday_is_day_off</th>\n",
              "      <th>tuesday_is_day_off</th>\n",
              "      <th>wednesday_is_day_off</th>\n",
              "      <th>thursday_is_day_off</th>\n",
              "      <th>friday_is_day_off</th>\n",
              "      <th>saturday_is_day_off</th>\n",
              "      <th>sunday_is_day_off</th>\n",
              "    </tr>\n",
              "  </thead>\n",
              "  <tbody>\n",
              "    <tr>\n",
              "      <th>0</th>\n",
              "      <td>100003</td>\n",
              "      <td>x-large</td>\n",
              "      <td>low</td>\n",
              "      <td>False</td>\n",
              "      <td>False</td>\n",
              "      <td>False</td>\n",
              "      <td>False</td>\n",
              "      <td>False</td>\n",
              "      <td>True</td>\n",
              "      <td>True</td>\n",
              "    </tr>\n",
              "    <tr>\n",
              "      <th>1</th>\n",
              "      <td>100004</td>\n",
              "      <td>x-large</td>\n",
              "      <td>low</td>\n",
              "      <td>False</td>\n",
              "      <td>False</td>\n",
              "      <td>False</td>\n",
              "      <td>False</td>\n",
              "      <td>False</td>\n",
              "      <td>True</td>\n",
              "      <td>True</td>\n",
              "    </tr>\n",
              "    <tr>\n",
              "      <th>2</th>\n",
              "      <td>100006</td>\n",
              "      <td>x-small</td>\n",
              "      <td>low</td>\n",
              "      <td>False</td>\n",
              "      <td>False</td>\n",
              "      <td>False</td>\n",
              "      <td>False</td>\n",
              "      <td>False</td>\n",
              "      <td>True</td>\n",
              "      <td>True</td>\n",
              "    </tr>\n",
              "    <tr>\n",
              "      <th>3</th>\n",
              "      <td>100008</td>\n",
              "      <td>x-small</td>\n",
              "      <td>low</td>\n",
              "      <td>False</td>\n",
              "      <td>False</td>\n",
              "      <td>False</td>\n",
              "      <td>False</td>\n",
              "      <td>False</td>\n",
              "      <td>True</td>\n",
              "      <td>True</td>\n",
              "    </tr>\n",
              "    <tr>\n",
              "      <th>4</th>\n",
              "      <td>100010</td>\n",
              "      <td>x-small</td>\n",
              "      <td>low</td>\n",
              "      <td>False</td>\n",
              "      <td>False</td>\n",
              "      <td>False</td>\n",
              "      <td>False</td>\n",
              "      <td>False</td>\n",
              "      <td>True</td>\n",
              "      <td>True</td>\n",
              "    </tr>\n",
              "  </tbody>\n",
              "</table>\n",
              "</div>"
            ],
            "text/plain": [
              "   series_id  surface base_temperature  monday_is_day_off  tuesday_is_day_off  \\\n",
              "0     100003  x-large              low              False               False   \n",
              "1     100004  x-large              low              False               False   \n",
              "2     100006  x-small              low              False               False   \n",
              "3     100008  x-small              low              False               False   \n",
              "4     100010  x-small              low              False               False   \n",
              "\n",
              "   wednesday_is_day_off  thursday_is_day_off  friday_is_day_off  \\\n",
              "0                 False                False              False   \n",
              "1                 False                False              False   \n",
              "2                 False                False              False   \n",
              "3                 False                False              False   \n",
              "4                 False                False              False   \n",
              "\n",
              "   saturday_is_day_off  sunday_is_day_off  \n",
              "0                 True               True  \n",
              "1                 True               True  \n",
              "2                 True               True  \n",
              "3                 True               True  \n",
              "4                 True               True  "
            ]
          },
          "metadata": {
            "tags": []
          },
          "execution_count": 16
        }
      ]
    },
    {
      "metadata": {
        "id": "8oEwI8LLHkkA",
        "colab_type": "code",
        "colab": {
          "base_uri": "https://localhost:8080/",
          "height": 204
        },
        "outputId": "18742346-a1f0-413e-d09c-15edaf6ecf76"
      },
      "cell_type": "code",
      "source": [
        "meta=meta.iloc[:,0:3]\n",
        "dummies = pd.get_dummies(meta['surface']).rename(columns=lambda x: str(x))\n",
        "meta = pd.concat([meta, dummies], axis=1)\n",
        "dummies = pd.get_dummies(meta['base_temperature']).rename(columns=lambda x: 'base_temp_' + str(x))\n",
        "meta = pd.DataFrame(pd.concat([meta, dummies], axis=1))\n",
        "columns = ['surface', 'base_temperature']\n",
        "meta.drop(columns, inplace=True, axis=1)\n",
        "meta.head()"
      ],
      "execution_count": 17,
      "outputs": [
        {
          "output_type": "execute_result",
          "data": {
            "text/html": [
              "<div>\n",
              "<style scoped>\n",
              "    .dataframe tbody tr th:only-of-type {\n",
              "        vertical-align: middle;\n",
              "    }\n",
              "\n",
              "    .dataframe tbody tr th {\n",
              "        vertical-align: top;\n",
              "    }\n",
              "\n",
              "    .dataframe thead th {\n",
              "        text-align: right;\n",
              "    }\n",
              "</style>\n",
              "<table border=\"1\" class=\"dataframe\">\n",
              "  <thead>\n",
              "    <tr style=\"text-align: right;\">\n",
              "      <th></th>\n",
              "      <th>series_id</th>\n",
              "      <th>large</th>\n",
              "      <th>medium</th>\n",
              "      <th>small</th>\n",
              "      <th>x-large</th>\n",
              "      <th>x-small</th>\n",
              "      <th>xx-large</th>\n",
              "      <th>xx-small</th>\n",
              "      <th>base_temp_high</th>\n",
              "      <th>base_temp_low</th>\n",
              "    </tr>\n",
              "  </thead>\n",
              "  <tbody>\n",
              "    <tr>\n",
              "      <th>0</th>\n",
              "      <td>100003</td>\n",
              "      <td>0</td>\n",
              "      <td>0</td>\n",
              "      <td>0</td>\n",
              "      <td>1</td>\n",
              "      <td>0</td>\n",
              "      <td>0</td>\n",
              "      <td>0</td>\n",
              "      <td>0</td>\n",
              "      <td>1</td>\n",
              "    </tr>\n",
              "    <tr>\n",
              "      <th>1</th>\n",
              "      <td>100004</td>\n",
              "      <td>0</td>\n",
              "      <td>0</td>\n",
              "      <td>0</td>\n",
              "      <td>1</td>\n",
              "      <td>0</td>\n",
              "      <td>0</td>\n",
              "      <td>0</td>\n",
              "      <td>0</td>\n",
              "      <td>1</td>\n",
              "    </tr>\n",
              "    <tr>\n",
              "      <th>2</th>\n",
              "      <td>100006</td>\n",
              "      <td>0</td>\n",
              "      <td>0</td>\n",
              "      <td>0</td>\n",
              "      <td>0</td>\n",
              "      <td>1</td>\n",
              "      <td>0</td>\n",
              "      <td>0</td>\n",
              "      <td>0</td>\n",
              "      <td>1</td>\n",
              "    </tr>\n",
              "    <tr>\n",
              "      <th>3</th>\n",
              "      <td>100008</td>\n",
              "      <td>0</td>\n",
              "      <td>0</td>\n",
              "      <td>0</td>\n",
              "      <td>0</td>\n",
              "      <td>1</td>\n",
              "      <td>0</td>\n",
              "      <td>0</td>\n",
              "      <td>0</td>\n",
              "      <td>1</td>\n",
              "    </tr>\n",
              "    <tr>\n",
              "      <th>4</th>\n",
              "      <td>100010</td>\n",
              "      <td>0</td>\n",
              "      <td>0</td>\n",
              "      <td>0</td>\n",
              "      <td>0</td>\n",
              "      <td>1</td>\n",
              "      <td>0</td>\n",
              "      <td>0</td>\n",
              "      <td>0</td>\n",
              "      <td>1</td>\n",
              "    </tr>\n",
              "  </tbody>\n",
              "</table>\n",
              "</div>"
            ],
            "text/plain": [
              "   series_id  large  medium  small  x-large  x-small  xx-large  xx-small  \\\n",
              "0     100003      0       0      0        1        0         0         0   \n",
              "1     100004      0       0      0        1        0         0         0   \n",
              "2     100006      0       0      0        0        1         0         0   \n",
              "3     100008      0       0      0        0        1         0         0   \n",
              "4     100010      0       0      0        0        1         0         0   \n",
              "\n",
              "   base_temp_high  base_temp_low  \n",
              "0               0              1  \n",
              "1               0              1  \n",
              "2               0              1  \n",
              "3               0              1  \n",
              "4               0              1  "
            ]
          },
          "metadata": {
            "tags": []
          },
          "execution_count": 17
        }
      ]
    },
    {
      "metadata": {
        "id": "7ZHrBz90SnR-",
        "colab_type": "code",
        "colab": {}
      },
      "cell_type": "code",
      "source": [
        "#join meta data to training data set\n",
        "full=pd.merge(train, meta, left_on='series_id', right_on='series_id')"
      ],
      "execution_count": 0,
      "outputs": []
    },
    {
      "metadata": {
        "id": "lEnrY5M1SnSD",
        "colab_type": "code",
        "colab": {
          "base_uri": "https://localhost:8080/",
          "height": 545
        },
        "outputId": "b9f2616e-e1f3-4e0f-c888-1bead5787c03"
      },
      "cell_type": "code",
      "source": [
        "\"\"\"Examining Correlations\"\"\"\n",
        "pd.DataFrame(full.corr()[\"consumption\"].sort_values(ascending=False))"
      ],
      "execution_count": 19,
      "outputs": [
        {
          "output_type": "execute_result",
          "data": {
            "text/html": [
              "<div>\n",
              "<style scoped>\n",
              "    .dataframe tbody tr th:only-of-type {\n",
              "        vertical-align: middle;\n",
              "    }\n",
              "\n",
              "    .dataframe tbody tr th {\n",
              "        vertical-align: top;\n",
              "    }\n",
              "\n",
              "    .dataframe thead th {\n",
              "        text-align: right;\n",
              "    }\n",
              "</style>\n",
              "<table border=\"1\" class=\"dataframe\">\n",
              "  <thead>\n",
              "    <tr style=\"text-align: right;\">\n",
              "      <th></th>\n",
              "      <th>consumption</th>\n",
              "    </tr>\n",
              "  </thead>\n",
              "  <tbody>\n",
              "    <tr>\n",
              "      <th>consumption</th>\n",
              "      <td>1.000000</td>\n",
              "    </tr>\n",
              "    <tr>\n",
              "      <th>large</th>\n",
              "      <td>0.277053</td>\n",
              "    </tr>\n",
              "    <tr>\n",
              "      <th>small</th>\n",
              "      <td>0.154346</td>\n",
              "    </tr>\n",
              "    <tr>\n",
              "      <th>xx-large</th>\n",
              "      <td>0.127718</td>\n",
              "    </tr>\n",
              "    <tr>\n",
              "      <th>temperature</th>\n",
              "      <td>0.086170</td>\n",
              "    </tr>\n",
              "    <tr>\n",
              "      <th>year</th>\n",
              "      <td>0.064448</td>\n",
              "    </tr>\n",
              "    <tr>\n",
              "      <th>series_id</th>\n",
              "      <td>0.050276</td>\n",
              "    </tr>\n",
              "    <tr>\n",
              "      <th>base_temp_low</th>\n",
              "      <td>0.030459</td>\n",
              "    </tr>\n",
              "    <tr>\n",
              "      <th>month</th>\n",
              "      <td>0.020468</td>\n",
              "    </tr>\n",
              "    <tr>\n",
              "      <th>day</th>\n",
              "      <td>-0.013733</td>\n",
              "    </tr>\n",
              "    <tr>\n",
              "      <th>base_temp_high</th>\n",
              "      <td>-0.030459</td>\n",
              "    </tr>\n",
              "    <tr>\n",
              "      <th>wkday</th>\n",
              "      <td>-0.071266</td>\n",
              "    </tr>\n",
              "    <tr>\n",
              "      <th>x-large</th>\n",
              "      <td>-0.082255</td>\n",
              "    </tr>\n",
              "    <tr>\n",
              "      <th>medium</th>\n",
              "      <td>-0.118371</td>\n",
              "    </tr>\n",
              "    <tr>\n",
              "      <th>xx-small</th>\n",
              "      <td>-0.137780</td>\n",
              "    </tr>\n",
              "    <tr>\n",
              "      <th>x-small</th>\n",
              "      <td>-0.155437</td>\n",
              "    </tr>\n",
              "  </tbody>\n",
              "</table>\n",
              "</div>"
            ],
            "text/plain": [
              "                consumption\n",
              "consumption        1.000000\n",
              "large              0.277053\n",
              "small              0.154346\n",
              "xx-large           0.127718\n",
              "temperature        0.086170\n",
              "year               0.064448\n",
              "series_id          0.050276\n",
              "base_temp_low      0.030459\n",
              "month              0.020468\n",
              "day               -0.013733\n",
              "base_temp_high    -0.030459\n",
              "wkday             -0.071266\n",
              "x-large           -0.082255\n",
              "medium            -0.118371\n",
              "xx-small          -0.137780\n",
              "x-small           -0.155437"
            ]
          },
          "metadata": {
            "tags": []
          },
          "execution_count": 19
        }
      ]
    },
    {
      "metadata": {
        "id": "L8mE61hwSnSJ",
        "colab_type": "code",
        "colab": {
          "base_uri": "https://localhost:8080/",
          "height": 204
        },
        "outputId": "3ff7d5ca-967f-4f3a-d06e-b7d010792e1e"
      },
      "cell_type": "code",
      "source": [
        "#read in cold start data\n",
        "url='https://s3.amazonaws.com/drivendata/data/55/public/cold_start_test.csv'\n",
        "cold=pd.read_csv(url, index_col='Unnamed: 0')\n",
        "cold.head()"
      ],
      "execution_count": 20,
      "outputs": [
        {
          "output_type": "execute_result",
          "data": {
            "text/html": [
              "<div>\n",
              "<style scoped>\n",
              "    .dataframe tbody tr th:only-of-type {\n",
              "        vertical-align: middle;\n",
              "    }\n",
              "\n",
              "    .dataframe tbody tr th {\n",
              "        vertical-align: top;\n",
              "    }\n",
              "\n",
              "    .dataframe thead th {\n",
              "        text-align: right;\n",
              "    }\n",
              "</style>\n",
              "<table border=\"1\" class=\"dataframe\">\n",
              "  <thead>\n",
              "    <tr style=\"text-align: right;\">\n",
              "      <th></th>\n",
              "      <th>series_id</th>\n",
              "      <th>timestamp</th>\n",
              "      <th>consumption</th>\n",
              "      <th>temperature</th>\n",
              "    </tr>\n",
              "  </thead>\n",
              "  <tbody>\n",
              "    <tr>\n",
              "      <th>0</th>\n",
              "      <td>102781</td>\n",
              "      <td>2013-02-27 00:00:00</td>\n",
              "      <td>15295.740389</td>\n",
              "      <td>17.00</td>\n",
              "    </tr>\n",
              "    <tr>\n",
              "      <th>1</th>\n",
              "      <td>102781</td>\n",
              "      <td>2013-02-27 01:00:00</td>\n",
              "      <td>15163.209562</td>\n",
              "      <td>18.25</td>\n",
              "    </tr>\n",
              "    <tr>\n",
              "      <th>2</th>\n",
              "      <td>102781</td>\n",
              "      <td>2013-02-27 02:00:00</td>\n",
              "      <td>15022.264079</td>\n",
              "      <td>18.00</td>\n",
              "    </tr>\n",
              "    <tr>\n",
              "      <th>3</th>\n",
              "      <td>102781</td>\n",
              "      <td>2013-02-27 03:00:00</td>\n",
              "      <td>15370.420458</td>\n",
              "      <td>17.00</td>\n",
              "    </tr>\n",
              "    <tr>\n",
              "      <th>4</th>\n",
              "      <td>102781</td>\n",
              "      <td>2013-02-27 04:00:00</td>\n",
              "      <td>15303.103213</td>\n",
              "      <td>16.90</td>\n",
              "    </tr>\n",
              "  </tbody>\n",
              "</table>\n",
              "</div>"
            ],
            "text/plain": [
              "   series_id            timestamp   consumption  temperature\n",
              "0     102781  2013-02-27 00:00:00  15295.740389        17.00\n",
              "1     102781  2013-02-27 01:00:00  15163.209562        18.25\n",
              "2     102781  2013-02-27 02:00:00  15022.264079        18.00\n",
              "3     102781  2013-02-27 03:00:00  15370.420458        17.00\n",
              "4     102781  2013-02-27 04:00:00  15303.103213        16.90"
            ]
          },
          "metadata": {
            "tags": []
          },
          "execution_count": 20
        }
      ]
    },
    {
      "metadata": {
        "id": "OX1IOxpNSnSQ",
        "colab_type": "code",
        "colab": {}
      },
      "cell_type": "code",
      "source": [
        "test_full=pd.merge(cold, meta, left_on='series_id', right_on='series_id')"
      ],
      "execution_count": 0,
      "outputs": []
    },
    {
      "metadata": {
        "id": "IKSuTKW9SnSU",
        "colab_type": "code",
        "colab": {}
      },
      "cell_type": "code",
      "source": [
        "def time_stamp(df):\n",
        "    df[\"timestamp\"] = pd.to_datetime(df[\"timestamp\"])\n",
        "    df[\"year\"] = df[\"timestamp\"].dt.year\n",
        "    df[\"month\"] =  df[\"timestamp\"].dt.month\n",
        "    df[\"day\"] = df[\"timestamp\"].dt.day \n",
        "    df['hour'] = df['timestamp'].dt.hour\n",
        "    df['wkday'] = df['timestamp'].dt.weekday\n",
        "    \n",
        "time_stamp(test_full)"
      ],
      "execution_count": 0,
      "outputs": []
    },
    {
      "metadata": {
        "id": "AcN8lUytSnSZ",
        "colab_type": "code",
        "colab": {}
      },
      "cell_type": "code",
      "source": [
        "test_full['day_of_yr']=test_full['timestamp'].dt.strftime('%j')\n",
        "test_full['hour']=test_full['timestamp'].dt.strftime('%H')"
      ],
      "execution_count": 0,
      "outputs": []
    },
    {
      "metadata": {
        "id": "5PXC7MLhSnSe",
        "colab_type": "code",
        "colab": {
          "base_uri": "https://localhost:8080/",
          "height": 326
        },
        "outputId": "5d1a2133-29e0-4669-80e1-8af2978610b1"
      },
      "cell_type": "code",
      "source": [
        "full.head()"
      ],
      "execution_count": 24,
      "outputs": [
        {
          "output_type": "execute_result",
          "data": {
            "text/html": [
              "<div>\n",
              "<style scoped>\n",
              "    .dataframe tbody tr th:only-of-type {\n",
              "        vertical-align: middle;\n",
              "    }\n",
              "\n",
              "    .dataframe tbody tr th {\n",
              "        vertical-align: top;\n",
              "    }\n",
              "\n",
              "    .dataframe thead th {\n",
              "        text-align: right;\n",
              "    }\n",
              "</style>\n",
              "<table border=\"1\" class=\"dataframe\">\n",
              "  <thead>\n",
              "    <tr style=\"text-align: right;\">\n",
              "      <th></th>\n",
              "      <th>series_id</th>\n",
              "      <th>timestamp</th>\n",
              "      <th>consumption</th>\n",
              "      <th>temperature</th>\n",
              "      <th>year</th>\n",
              "      <th>month</th>\n",
              "      <th>day</th>\n",
              "      <th>hour</th>\n",
              "      <th>wkday</th>\n",
              "      <th>day_of_yr</th>\n",
              "      <th>large</th>\n",
              "      <th>medium</th>\n",
              "      <th>small</th>\n",
              "      <th>x-large</th>\n",
              "      <th>x-small</th>\n",
              "      <th>xx-large</th>\n",
              "      <th>xx-small</th>\n",
              "      <th>base_temp_high</th>\n",
              "      <th>base_temp_low</th>\n",
              "    </tr>\n",
              "  </thead>\n",
              "  <tbody>\n",
              "    <tr>\n",
              "      <th>0</th>\n",
              "      <td>103088</td>\n",
              "      <td>2014-12-30 17:00:00</td>\n",
              "      <td>143709.717612</td>\n",
              "      <td>-4.675</td>\n",
              "      <td>2014</td>\n",
              "      <td>12</td>\n",
              "      <td>30</td>\n",
              "      <td>17</td>\n",
              "      <td>1</td>\n",
              "      <td>364</td>\n",
              "      <td>0</td>\n",
              "      <td>0</td>\n",
              "      <td>0</td>\n",
              "      <td>0</td>\n",
              "      <td>1</td>\n",
              "      <td>0</td>\n",
              "      <td>0</td>\n",
              "      <td>0</td>\n",
              "      <td>1</td>\n",
              "    </tr>\n",
              "    <tr>\n",
              "      <th>1</th>\n",
              "      <td>103088</td>\n",
              "      <td>2014-12-30 18:00:00</td>\n",
              "      <td>157424.927949</td>\n",
              "      <td>-5.000</td>\n",
              "      <td>2014</td>\n",
              "      <td>12</td>\n",
              "      <td>30</td>\n",
              "      <td>18</td>\n",
              "      <td>1</td>\n",
              "      <td>364</td>\n",
              "      <td>0</td>\n",
              "      <td>0</td>\n",
              "      <td>0</td>\n",
              "      <td>0</td>\n",
              "      <td>1</td>\n",
              "      <td>0</td>\n",
              "      <td>0</td>\n",
              "      <td>0</td>\n",
              "      <td>1</td>\n",
              "    </tr>\n",
              "    <tr>\n",
              "      <th>2</th>\n",
              "      <td>103088</td>\n",
              "      <td>2014-12-31 14:00:00</td>\n",
              "      <td>153370.363034</td>\n",
              "      <td>-4.400</td>\n",
              "      <td>2014</td>\n",
              "      <td>12</td>\n",
              "      <td>31</td>\n",
              "      <td>14</td>\n",
              "      <td>2</td>\n",
              "      <td>365</td>\n",
              "      <td>0</td>\n",
              "      <td>0</td>\n",
              "      <td>0</td>\n",
              "      <td>0</td>\n",
              "      <td>1</td>\n",
              "      <td>0</td>\n",
              "      <td>0</td>\n",
              "      <td>0</td>\n",
              "      <td>1</td>\n",
              "    </tr>\n",
              "    <tr>\n",
              "      <th>3</th>\n",
              "      <td>103088</td>\n",
              "      <td>2014-12-31 15:00:00</td>\n",
              "      <td>137602.089769</td>\n",
              "      <td>-4.650</td>\n",
              "      <td>2014</td>\n",
              "      <td>12</td>\n",
              "      <td>31</td>\n",
              "      <td>15</td>\n",
              "      <td>2</td>\n",
              "      <td>365</td>\n",
              "      <td>0</td>\n",
              "      <td>0</td>\n",
              "      <td>0</td>\n",
              "      <td>0</td>\n",
              "      <td>1</td>\n",
              "      <td>0</td>\n",
              "      <td>0</td>\n",
              "      <td>0</td>\n",
              "      <td>1</td>\n",
              "    </tr>\n",
              "    <tr>\n",
              "      <th>4</th>\n",
              "      <td>103088</td>\n",
              "      <td>2014-12-31 16:00:00</td>\n",
              "      <td>131771.016064</td>\n",
              "      <td>-5.100</td>\n",
              "      <td>2014</td>\n",
              "      <td>12</td>\n",
              "      <td>31</td>\n",
              "      <td>16</td>\n",
              "      <td>2</td>\n",
              "      <td>365</td>\n",
              "      <td>0</td>\n",
              "      <td>0</td>\n",
              "      <td>0</td>\n",
              "      <td>0</td>\n",
              "      <td>1</td>\n",
              "      <td>0</td>\n",
              "      <td>0</td>\n",
              "      <td>0</td>\n",
              "      <td>1</td>\n",
              "    </tr>\n",
              "  </tbody>\n",
              "</table>\n",
              "</div>"
            ],
            "text/plain": [
              "   series_id           timestamp    consumption  temperature  year  month  \\\n",
              "0     103088 2014-12-30 17:00:00  143709.717612       -4.675  2014     12   \n",
              "1     103088 2014-12-30 18:00:00  157424.927949       -5.000  2014     12   \n",
              "2     103088 2014-12-31 14:00:00  153370.363034       -4.400  2014     12   \n",
              "3     103088 2014-12-31 15:00:00  137602.089769       -4.650  2014     12   \n",
              "4     103088 2014-12-31 16:00:00  131771.016064       -5.100  2014     12   \n",
              "\n",
              "   day hour  wkday day_of_yr  large  medium  small  x-large  x-small  \\\n",
              "0   30   17      1       364      0       0      0        0        1   \n",
              "1   30   18      1       364      0       0      0        0        1   \n",
              "2   31   14      2       365      0       0      0        0        1   \n",
              "3   31   15      2       365      0       0      0        0        1   \n",
              "4   31   16      2       365      0       0      0        0        1   \n",
              "\n",
              "   xx-large  xx-small  base_temp_high  base_temp_low  \n",
              "0         0         0               0              1  \n",
              "1         0         0               0              1  \n",
              "2         0         0               0              1  \n",
              "3         0         0               0              1  \n",
              "4         0         0               0              1  "
            ]
          },
          "metadata": {
            "tags": []
          },
          "execution_count": 24
        }
      ]
    },
    {
      "metadata": {
        "id": "5ZslCZmPSnSj",
        "colab_type": "code",
        "colab": {}
      },
      "cell_type": "code",
      "source": [
        "%matplotlib inline\n",
        "import matplotlib.pyplot as plt\n",
        "import tensorflow as tf\n",
        "import os\n",
        "from sklearn.preprocessing import MinMaxScaler"
      ],
      "execution_count": 0,
      "outputs": []
    },
    {
      "metadata": {
        "id": "Tf0PnujUSnSm",
        "colab_type": "code",
        "colab": {
          "base_uri": "https://localhost:8080/",
          "height": 34
        },
        "outputId": "c5425cfd-8abb-4691-9028-77ba33eb0b04"
      },
      "cell_type": "code",
      "source": [
        "from __future__ import absolute_import, division, print_function\n",
        "\n",
        "import tensorflow as tf\n",
        "from tensorflow import keras\n",
        "\n",
        "import numpy as np\n",
        "\n",
        "print(tf.__version__)"
      ],
      "execution_count": 26,
      "outputs": [
        {
          "output_type": "stream",
          "text": [
            "1.11.0\n"
          ],
          "name": "stdout"
        }
      ]
    },
    {
      "metadata": {
        "id": "qe9g-uDviOmg",
        "colab_type": "code",
        "colab": {
          "base_uri": "https://localhost:8080/",
          "height": 326
        },
        "outputId": "07cdd04c-c277-4143-bc2c-f21702602515"
      },
      "cell_type": "code",
      "source": [
        "test_full.head()"
      ],
      "execution_count": 27,
      "outputs": [
        {
          "output_type": "execute_result",
          "data": {
            "text/html": [
              "<div>\n",
              "<style scoped>\n",
              "    .dataframe tbody tr th:only-of-type {\n",
              "        vertical-align: middle;\n",
              "    }\n",
              "\n",
              "    .dataframe tbody tr th {\n",
              "        vertical-align: top;\n",
              "    }\n",
              "\n",
              "    .dataframe thead th {\n",
              "        text-align: right;\n",
              "    }\n",
              "</style>\n",
              "<table border=\"1\" class=\"dataframe\">\n",
              "  <thead>\n",
              "    <tr style=\"text-align: right;\">\n",
              "      <th></th>\n",
              "      <th>series_id</th>\n",
              "      <th>timestamp</th>\n",
              "      <th>consumption</th>\n",
              "      <th>temperature</th>\n",
              "      <th>large</th>\n",
              "      <th>medium</th>\n",
              "      <th>small</th>\n",
              "      <th>x-large</th>\n",
              "      <th>x-small</th>\n",
              "      <th>xx-large</th>\n",
              "      <th>xx-small</th>\n",
              "      <th>base_temp_high</th>\n",
              "      <th>base_temp_low</th>\n",
              "      <th>year</th>\n",
              "      <th>month</th>\n",
              "      <th>day</th>\n",
              "      <th>hour</th>\n",
              "      <th>wkday</th>\n",
              "      <th>day_of_yr</th>\n",
              "    </tr>\n",
              "  </thead>\n",
              "  <tbody>\n",
              "    <tr>\n",
              "      <th>0</th>\n",
              "      <td>102781</td>\n",
              "      <td>2013-02-27 00:00:00</td>\n",
              "      <td>15295.740389</td>\n",
              "      <td>17.00</td>\n",
              "      <td>1</td>\n",
              "      <td>0</td>\n",
              "      <td>0</td>\n",
              "      <td>0</td>\n",
              "      <td>0</td>\n",
              "      <td>0</td>\n",
              "      <td>0</td>\n",
              "      <td>0</td>\n",
              "      <td>1</td>\n",
              "      <td>2013</td>\n",
              "      <td>2</td>\n",
              "      <td>27</td>\n",
              "      <td>00</td>\n",
              "      <td>2</td>\n",
              "      <td>058</td>\n",
              "    </tr>\n",
              "    <tr>\n",
              "      <th>1</th>\n",
              "      <td>102781</td>\n",
              "      <td>2013-02-27 01:00:00</td>\n",
              "      <td>15163.209562</td>\n",
              "      <td>18.25</td>\n",
              "      <td>1</td>\n",
              "      <td>0</td>\n",
              "      <td>0</td>\n",
              "      <td>0</td>\n",
              "      <td>0</td>\n",
              "      <td>0</td>\n",
              "      <td>0</td>\n",
              "      <td>0</td>\n",
              "      <td>1</td>\n",
              "      <td>2013</td>\n",
              "      <td>2</td>\n",
              "      <td>27</td>\n",
              "      <td>01</td>\n",
              "      <td>2</td>\n",
              "      <td>058</td>\n",
              "    </tr>\n",
              "    <tr>\n",
              "      <th>2</th>\n",
              "      <td>102781</td>\n",
              "      <td>2013-02-27 02:00:00</td>\n",
              "      <td>15022.264079</td>\n",
              "      <td>18.00</td>\n",
              "      <td>1</td>\n",
              "      <td>0</td>\n",
              "      <td>0</td>\n",
              "      <td>0</td>\n",
              "      <td>0</td>\n",
              "      <td>0</td>\n",
              "      <td>0</td>\n",
              "      <td>0</td>\n",
              "      <td>1</td>\n",
              "      <td>2013</td>\n",
              "      <td>2</td>\n",
              "      <td>27</td>\n",
              "      <td>02</td>\n",
              "      <td>2</td>\n",
              "      <td>058</td>\n",
              "    </tr>\n",
              "    <tr>\n",
              "      <th>3</th>\n",
              "      <td>102781</td>\n",
              "      <td>2013-02-27 03:00:00</td>\n",
              "      <td>15370.420458</td>\n",
              "      <td>17.00</td>\n",
              "      <td>1</td>\n",
              "      <td>0</td>\n",
              "      <td>0</td>\n",
              "      <td>0</td>\n",
              "      <td>0</td>\n",
              "      <td>0</td>\n",
              "      <td>0</td>\n",
              "      <td>0</td>\n",
              "      <td>1</td>\n",
              "      <td>2013</td>\n",
              "      <td>2</td>\n",
              "      <td>27</td>\n",
              "      <td>03</td>\n",
              "      <td>2</td>\n",
              "      <td>058</td>\n",
              "    </tr>\n",
              "    <tr>\n",
              "      <th>4</th>\n",
              "      <td>102781</td>\n",
              "      <td>2013-02-27 04:00:00</td>\n",
              "      <td>15303.103213</td>\n",
              "      <td>16.90</td>\n",
              "      <td>1</td>\n",
              "      <td>0</td>\n",
              "      <td>0</td>\n",
              "      <td>0</td>\n",
              "      <td>0</td>\n",
              "      <td>0</td>\n",
              "      <td>0</td>\n",
              "      <td>0</td>\n",
              "      <td>1</td>\n",
              "      <td>2013</td>\n",
              "      <td>2</td>\n",
              "      <td>27</td>\n",
              "      <td>04</td>\n",
              "      <td>2</td>\n",
              "      <td>058</td>\n",
              "    </tr>\n",
              "  </tbody>\n",
              "</table>\n",
              "</div>"
            ],
            "text/plain": [
              "   series_id           timestamp   consumption  temperature  large  medium  \\\n",
              "0     102781 2013-02-27 00:00:00  15295.740389        17.00      1       0   \n",
              "1     102781 2013-02-27 01:00:00  15163.209562        18.25      1       0   \n",
              "2     102781 2013-02-27 02:00:00  15022.264079        18.00      1       0   \n",
              "3     102781 2013-02-27 03:00:00  15370.420458        17.00      1       0   \n",
              "4     102781 2013-02-27 04:00:00  15303.103213        16.90      1       0   \n",
              "\n",
              "   small  x-large  x-small  xx-large  xx-small  base_temp_high  base_temp_low  \\\n",
              "0      0        0        0         0         0               0              1   \n",
              "1      0        0        0         0         0               0              1   \n",
              "2      0        0        0         0         0               0              1   \n",
              "3      0        0        0         0         0               0              1   \n",
              "4      0        0        0         0         0               0              1   \n",
              "\n",
              "   year  month  day hour  wkday day_of_yr  \n",
              "0  2013      2   27   00      2       058  \n",
              "1  2013      2   27   01      2       058  \n",
              "2  2013      2   27   02      2       058  \n",
              "3  2013      2   27   03      2       058  \n",
              "4  2013      2   27   04      2       058  "
            ]
          },
          "metadata": {
            "tags": []
          },
          "execution_count": 27
        }
      ]
    },
    {
      "metadata": {
        "id": "ZX-sZVlqSnSr",
        "colab_type": "code",
        "colab": {}
      },
      "cell_type": "code",
      "source": [
        "Y_train=full.iloc[:,3].values\n",
        "X_train=full.drop(['consumption','timestamp'], axis=1).values"
      ],
      "execution_count": 0,
      "outputs": []
    },
    {
      "metadata": {
        "id": "KQsaoMLcfJu2",
        "colab_type": "code",
        "colab": {}
      },
      "cell_type": "code",
      "source": [
        ""
      ],
      "execution_count": 0,
      "outputs": []
    },
    {
      "metadata": {
        "id": "yPVvUkFIeHb6",
        "colab_type": "code",
        "colab": {
          "base_uri": "https://localhost:8080/",
          "height": 71
        },
        "outputId": "b5ff85e8-1896-4af9-feea-29f87e7a89b8"
      },
      "cell_type": "code",
      "source": [
        "from sklearn.preprocessing import StandardScaler\n",
        "sc = StandardScaler()\n",
        "X_train = sc.fit_transform(X_train)"
      ],
      "execution_count": 30,
      "outputs": [
        {
          "output_type": "stream",
          "text": [
            "/usr/local/lib/python3.6/dist-packages/sklearn/utils/validation.py:475: DataConversionWarning: Data with input dtype object was converted to float64 by StandardScaler.\n",
            "  warnings.warn(msg, DataConversionWarning)\n"
          ],
          "name": "stderr"
        }
      ]
    },
    {
      "metadata": {
        "id": "o39o2YAkeNGv",
        "colab_type": "code",
        "colab": {
          "base_uri": "https://localhost:8080/",
          "height": 238
        },
        "outputId": "3f7b3445-780a-4952-9496-ea3e202c8462"
      },
      "cell_type": "code",
      "source": [
        "X_train"
      ],
      "execution_count": 31,
      "outputs": [
        {
          "output_type": "execute_result",
          "data": {
            "text/plain": [
              "array([[ 1.2049618 , -2.23115608, -1.93607843, ..., -0.36572415,\n",
              "        -0.15983246,  0.15983246],\n",
              "       [ 1.2049618 , -2.26759742, -1.93607843, ..., -0.36572415,\n",
              "        -0.15983246,  0.15983246],\n",
              "       [ 1.2049618 , -2.20032109, -1.93607843, ..., -0.36572415,\n",
              "        -0.15983246,  0.15983246],\n",
              "       ...,\n",
              "       [ 0.15283212, -1.45683559,  0.7566498 , ..., -0.36572415,\n",
              "        -0.15983246,  0.15983246],\n",
              "       [ 0.15283212, -1.45632908,  0.7566498 , ..., -0.36572415,\n",
              "        -0.15983246,  0.15983246],\n",
              "       [ 0.15283212, -1.45576525,  0.7566498 , ..., -0.36572415,\n",
              "        -0.15983246,  0.15983246]])"
            ]
          },
          "metadata": {
            "tags": []
          },
          "execution_count": 31
        }
      ]
    },
    {
      "metadata": {
        "id": "6I6CtUnseNzi",
        "colab_type": "code",
        "colab": {
          "base_uri": "https://localhost:8080/",
          "height": 238
        },
        "outputId": "c37309d2-2632-4ee5-f359-1799e836be59"
      },
      "cell_type": "code",
      "source": [
        "def build_model():\n",
        "  model = keras.Sequential([\n",
        "    keras.layers.Dense(64, activation=tf.nn.relu,\n",
        "                       input_shape=(X_train.shape[1],)),\n",
        "    keras.layers.Dense(64, activation=tf.nn.relu),\n",
        "    keras.layers.Dense(1)\n",
        "  ])\n",
        "\n",
        "  optimizer = tf.train.RMSPropOptimizer(0.001)\n",
        "\n",
        "  model.compile(loss='mse',\n",
        "                optimizer=optimizer,\n",
        "                metrics=['mae'])\n",
        "  return model\n",
        "\n",
        "model = build_model()\n",
        "model.summary()"
      ],
      "execution_count": 32,
      "outputs": [
        {
          "output_type": "stream",
          "text": [
            "_________________________________________________________________\n",
            "Layer (type)                 Output Shape              Param #   \n",
            "=================================================================\n",
            "dense (Dense)                (None, 64)                1152      \n",
            "_________________________________________________________________\n",
            "dense_1 (Dense)              (None, 64)                4160      \n",
            "_________________________________________________________________\n",
            "dense_2 (Dense)              (None, 1)                 65        \n",
            "=================================================================\n",
            "Total params: 5,377\n",
            "Trainable params: 5,377\n",
            "Non-trainable params: 0\n",
            "_________________________________________________________________\n"
          ],
          "name": "stdout"
        }
      ]
    },
    {
      "metadata": {
        "id": "wrKn8_Prevsc",
        "colab_type": "code",
        "colab": {
          "base_uri": "https://localhost:8080/",
          "height": 51
        },
        "outputId": "8d07d090-1e4d-4f2f-af35-5a51ca175005"
      },
      "cell_type": "code",
      "source": [
        "# Display training progress by printing a single dot for each completed epoch\n",
        "class PrintDot(keras.callbacks.Callback):\n",
        "  def on_epoch_end(self, epoch, logs):\n",
        "    if epoch % 100 == 0: print('')\n",
        "    print('.', end='')\n",
        "\n",
        "EPOCHS = 100\n",
        "\n",
        "# Store training stats\n",
        "history = model.fit(X_train, Y_train, epochs=EPOCHS,\n",
        "                    validation_split=0.2, verbose=0,\n",
        "                    callbacks=[PrintDot()])"
      ],
      "execution_count": 33,
      "outputs": [
        {
          "output_type": "stream",
          "text": [
            "\n",
            "...................................................................................................."
          ],
          "name": "stdout"
        }
      ]
    },
    {
      "metadata": {
        "id": "yC-NlHscf1iO",
        "colab_type": "code",
        "colab": {}
      },
      "cell_type": "code",
      "source": [
        ""
      ],
      "execution_count": 0,
      "outputs": []
    },
    {
      "metadata": {
        "id": "FD9f8XW4gfk5",
        "colab_type": "code",
        "colab": {}
      },
      "cell_type": "code",
      "source": [
        "import matplotlib.pyplot as plt\n",
        "\n",
        "\n",
        "def plot_history(history):\n",
        "  plt.figure()\n",
        "  plt.xlabel('Epoch')\n",
        "  plt.ylabel('Mean Abs Error [1000$]')\n",
        "  plt.plot(history.epoch, np.array(history.history['mean_absolute_error']),\n",
        "           label='Train Loss')\n",
        "  plt.plot(history.epoch, np.array(history.history['val_mean_absolute_error']),\n",
        "           label = 'Val loss')\n",
        "  plt.legend()\n",
        "  plt.ylim([0, 5])\n",
        "\n",
        "plot_history(history)"
      ],
      "execution_count": 0,
      "outputs": []
    },
    {
      "metadata": {
        "id": "ECJpNLvigpJi",
        "colab_type": "code",
        "colab": {}
      },
      "cell_type": "code",
      "source": [
        "model = build_model()\n",
        "\n",
        "# The patience parameter is the amount of epochs to check for improvement\n",
        "early_stop = keras.callbacks.EarlyStopping(monitor='val_loss', patience=20)\n",
        "\n",
        "history = model.fit(X_train, Y_train, epochs=EPOCHS,\n",
        "                    validation_split=0.2, verbose=0,\n",
        "                    callbacks=[early_stop, PrintDot()])\n",
        "\n",
        "plot_history(history)"
      ],
      "execution_count": 0,
      "outputs": []
    },
    {
      "metadata": {
        "id": "wCB-1WqlL8gQ",
        "colab_type": "code",
        "colab": {}
      },
      "cell_type": "code",
      "source": [
        "Y_test=full_test.iloc[:,3].values\n",
        "X_test=full_test.drop(['consumption','timestamp'], axis=1).values\n",
        "[loss, mae] = model.evaluate(X_test, Y_test, verbose=0)\n",
        "\n",
        "print(\"Testing set Mean Abs Error: ${:7.2f}\".format(mae * 1000))"
      ],
      "execution_count": 0,
      "outputs": []
    },
    {
      "metadata": {
        "id": "7alcl1aVMuDL",
        "colab_type": "code",
        "colab": {}
      },
      "cell_type": "code",
      "source": [
        "test_predictions = model.predict(X_test).flatten()\n",
        "\n",
        "plt.scatter(Y_test, test_predictions)\n",
        "plt.xlabel('True Values [1000$]')\n",
        "plt.ylabel('Predictions [1000$]')\n",
        "plt.axis('equal')\n",
        "plt.xlim(plt.xlim())\n",
        "plt.ylim(plt.ylim())\n",
        "_ = plt.plot([-100, 100], [-100, 100])"
      ],
      "execution_count": 0,
      "outputs": []
    }
  ]
}